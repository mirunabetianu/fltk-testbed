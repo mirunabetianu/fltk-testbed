{
  "nbformat": 4,
  "nbformat_minor": 0,
  "metadata": {
    "colab": {
      "name": "Experiment_analysis.ipynb",
      "provenance": []
    },
    "kernelspec": {
      "name": "python3",
      "display_name": "Python 3"
    },
    "language_info": {
      "name": "python"
    }
  },
  "cells": [
    {
      "cell_type": "markdown",
      "metadata": {
        "id": "6ynk9RlLJ9ZI"
      },
      "source": [
        "# **ANOVA Analysis, Linear Regression and Random Forest Regression**"
      ]
    },
    {
      "cell_type": "code",
      "metadata": {
        "id": "HrXV07_5XhNO"
      },
      "source": [
        "!pip install researchpy\n",
        "!pip install pingouin"
      ],
      "execution_count": null,
      "outputs": []
    },
    {
      "cell_type": "code",
      "metadata": {
        "id": "-gYSKAlcJ6fN"
      },
      "source": [
        "import pandas as pd\n",
        "import numpy as np\n",
        "from statsmodels.formula.api import ols\n",
        "import researchpy as rp\n",
        "import statsmodels.stats.multicomp\n",
        "import statsmodels.api as sm\n",
        "import scipy\n",
        "import matplotlib.pyplot as plt\n",
        "from statsmodels.graphics.factorplots import interaction_plot\n",
        "from sklearn.model_selection import GridSearchCV, train_test_split\n",
        "from sklearn import linear_model, ensemble \n",
        "import pingouin as pg\n",
        "import matplotlib.pyplot as plt\n",
        "import seaborn as sns\n",
        "from sklearn.metrics import mean_squared_error, r2_score\n",
        "from sklearn.preprocessing import StandardScaler"
      ],
      "execution_count": 54,
      "outputs": []
    },
    {
      "cell_type": "code",
      "metadata": {
        "id": "5HmTqRDMMhvM"
      },
      "source": [
        "def mean_confidence_interval(data, confidence=0.95):\n",
        "    a = 1.0 * np.array(data)\n",
        "    n = len(a)\n",
        "    m, se = np.mean(a), scipy.stats.sem(a)\n",
        "    h = se * scipy.stats.t.ppf((1 + confidence) / 2., n-1)\n",
        "    return m, m-h, m+h\n",
        "\n",
        "def eta_squared(aov):\n",
        "    aov['eta_sq'] = 'NaN'\n",
        "    aov['eta_sq'] = aov[:-1]['sum_sq']/sum(aov['sum_sq'])\n",
        "    return aov\n",
        "    \n",
        "def omega_squared(aov):\n",
        "    mse = aov['sum_sq'][-1]/aov['df'][-1]\n",
        "    aov['omega_sq'] = 'NaN'\n",
        "    aov['omega_sq'] = (aov[:-1]['sum_sq']-(aov[:-1]['df']*mse))/(sum(aov['sum_sq'])+mse)\n",
        "    return aov"
      ],
      "execution_count": 12,
      "outputs": []
    },
    {
      "cell_type": "markdown",
      "metadata": {
        "id": "eN6RePpzLS5q"
      },
      "source": [
        "**2^k Factorial Design**"
      ]
    },
    {
      "cell_type": "code",
      "metadata": {
        "id": "9Xf67oizLGyy"
      },
      "source": [
        "# Data of 48 experiments (2^k factorial with 4 factors (low -1, high 1 levels) and 3 replications)\n",
        "df2k = pd.read_csv(\"experimentResults2k.csv\", sep=\";\")"
      ],
      "execution_count": 13,
      "outputs": []
    },
    {
      "cell_type": "code",
      "metadata": {
        "colab": {
          "base_uri": "https://localhost:8080/",
          "height": 541
        },
        "id": "9mdo4kWjLzkK",
        "outputId": "46484718-f078-4f77-9899-2833d56dc58e"
      },
      "source": [
        "# Interaction plot of batch size and data parallelism factors \n",
        "# Determining if the interaction factor is relevant based on the plot's lines\n",
        "interaction_plot(df2k.batchSize,df2k.dataParallelism, df2k.runningTime,\n",
        "             colors=['red','green'], markers=['D','^'], ms=4)"
      ],
      "execution_count": 14,
      "outputs": [
        {
          "output_type": "execute_result",
          "data": {
            "image/png": "[encoded data removed]",
            "text/plain": [
              "<Figure size 432x288 with 1 Axes>"
            ]
          },
          "metadata": {},
          "execution_count": 14
        },
        {
          "output_type": "display_data",
          "data": {
            "image/png": "[encoded data removed]",
            "text/plain": [
              "<Figure size 432x288 with 1 Axes>"
            ]
          },
          "metadata": {
            "needs_background": "light"
          }
        }
      ]
    },
    {
      "cell_type": "code",
      "metadata": {
        "colab": {
          "base_uri": "https://localhost:8080/",
          "height": 610
        },
        "id": "NDzLyasOMAxh",
        "outputId": "3111c72b-fb4b-49b2-fc82-03221b9c719f"
      },
      "source": [
        "# Statistical analysis of the experiments' data\n",
        "rp.summary_cont(df2k.groupby(['dataParallelism', 'executorCore','learningRate', 'batchSize']))['runningTime']"
      ],
      "execution_count": 15,
      "outputs": [
        {
          "output_type": "stream",
          "name": "stdout",
          "text": [
            "\n",
            "\n"
          ]
        },
        {
          "output_type": "execute_result",
          "data": {
            "text/html": [
              "<div>\n",
              "<style scoped>\n",
              "    .dataframe tbody tr th:only-of-type {\n",
              "        vertical-align: middle;\n",
              "    }\n",
              "\n",
              "    .dataframe tbody tr th {\n",
              "        vertical-align: top;\n",
              "    }\n",
              "\n",
              "    .dataframe thead th {\n",
              "        text-align: right;\n",
              "    }\n",
              "</style>\n",
              "<table border=\"1\" class=\"dataframe\">\n",
              "  <thead>\n",
              "    <tr style=\"text-align: right;\">\n",
              "      <th></th>\n",
              "      <th></th>\n",
              "      <th></th>\n",
              "      <th></th>\n",
              "      <th>N</th>\n",
              "      <th>Mean</th>\n",
              "      <th>SD</th>\n",
              "      <th>SE</th>\n",
              "      <th>95% Conf.</th>\n",
              "      <th>Interval</th>\n",
              "    </tr>\n",
              "    <tr>\n",
              "      <th>dataParallelism</th>\n",
              "      <th>executorCore</th>\n",
              "      <th>learningRate</th>\n",
              "      <th>batchSize</th>\n",
              "      <th></th>\n",
              "      <th></th>\n",
              "      <th></th>\n",
              "      <th></th>\n",
              "      <th></th>\n",
              "      <th></th>\n",
              "    </tr>\n",
              "  </thead>\n",
              "  <tbody>\n",
              "    <tr>\n",
              "      <th rowspan=\"8\" valign=\"top\">-1</th>\n",
              "      <th rowspan=\"4\" valign=\"top\">-1</th>\n",
              "      <th rowspan=\"2\" valign=\"top\">-1</th>\n",
              "      <th>-1</th>\n",
              "      <td>3</td>\n",
              "      <td>197.7277</td>\n",
              "      <td>12.2339</td>\n",
              "      <td>7.0632</td>\n",
              "      <td>167.3371</td>\n",
              "      <td>228.1183</td>\n",
              "    </tr>\n",
              "    <tr>\n",
              "      <th>1</th>\n",
              "      <td>3</td>\n",
              "      <td>180.8690</td>\n",
              "      <td>4.4000</td>\n",
              "      <td>2.5403</td>\n",
              "      <td>169.9388</td>\n",
              "      <td>191.7991</td>\n",
              "    </tr>\n",
              "    <tr>\n",
              "      <th rowspan=\"2\" valign=\"top\">1</th>\n",
              "      <th>-1</th>\n",
              "      <td>3</td>\n",
              "      <td>190.3960</td>\n",
              "      <td>0.7126</td>\n",
              "      <td>0.4114</td>\n",
              "      <td>188.6259</td>\n",
              "      <td>192.1662</td>\n",
              "    </tr>\n",
              "    <tr>\n",
              "      <th>1</th>\n",
              "      <td>3</td>\n",
              "      <td>180.4158</td>\n",
              "      <td>4.3034</td>\n",
              "      <td>2.4846</td>\n",
              "      <td>169.7255</td>\n",
              "      <td>191.1062</td>\n",
              "    </tr>\n",
              "    <tr>\n",
              "      <th rowspan=\"4\" valign=\"top\">1</th>\n",
              "      <th rowspan=\"2\" valign=\"top\">-1</th>\n",
              "      <th>-1</th>\n",
              "      <td>3</td>\n",
              "      <td>151.8459</td>\n",
              "      <td>7.1364</td>\n",
              "      <td>4.1202</td>\n",
              "      <td>134.1180</td>\n",
              "      <td>169.5737</td>\n",
              "    </tr>\n",
              "    <tr>\n",
              "      <th>1</th>\n",
              "      <td>3</td>\n",
              "      <td>140.2011</td>\n",
              "      <td>3.9043</td>\n",
              "      <td>2.2541</td>\n",
              "      <td>130.5023</td>\n",
              "      <td>149.8998</td>\n",
              "    </tr>\n",
              "    <tr>\n",
              "      <th rowspan=\"2\" valign=\"top\">1</th>\n",
              "      <th>-1</th>\n",
              "      <td>3</td>\n",
              "      <td>149.9432</td>\n",
              "      <td>3.4546</td>\n",
              "      <td>1.9945</td>\n",
              "      <td>141.3616</td>\n",
              "      <td>158.5249</td>\n",
              "    </tr>\n",
              "    <tr>\n",
              "      <th>1</th>\n",
              "      <td>3</td>\n",
              "      <td>137.5248</td>\n",
              "      <td>2.6400</td>\n",
              "      <td>1.5242</td>\n",
              "      <td>130.9666</td>\n",
              "      <td>144.0829</td>\n",
              "    </tr>\n",
              "    <tr>\n",
              "      <th rowspan=\"8\" valign=\"top\">1</th>\n",
              "      <th rowspan=\"4\" valign=\"top\">-1</th>\n",
              "      <th rowspan=\"2\" valign=\"top\">-1</th>\n",
              "      <th>-1</th>\n",
              "      <td>3</td>\n",
              "      <td>50.5200</td>\n",
              "      <td>0.9206</td>\n",
              "      <td>0.5315</td>\n",
              "      <td>48.2330</td>\n",
              "      <td>52.8069</td>\n",
              "    </tr>\n",
              "    <tr>\n",
              "      <th>1</th>\n",
              "      <td>3</td>\n",
              "      <td>47.8333</td>\n",
              "      <td>1.0115</td>\n",
              "      <td>0.5840</td>\n",
              "      <td>45.3207</td>\n",
              "      <td>50.3459</td>\n",
              "    </tr>\n",
              "    <tr>\n",
              "      <th rowspan=\"2\" valign=\"top\">1</th>\n",
              "      <th>-1</th>\n",
              "      <td>3</td>\n",
              "      <td>51.2325</td>\n",
              "      <td>0.2617</td>\n",
              "      <td>0.1511</td>\n",
              "      <td>50.5824</td>\n",
              "      <td>51.8826</td>\n",
              "    </tr>\n",
              "    <tr>\n",
              "      <th>1</th>\n",
              "      <td>3</td>\n",
              "      <td>48.1719</td>\n",
              "      <td>0.8987</td>\n",
              "      <td>0.5188</td>\n",
              "      <td>45.9395</td>\n",
              "      <td>50.4044</td>\n",
              "    </tr>\n",
              "    <tr>\n",
              "      <th rowspan=\"4\" valign=\"top\">1</th>\n",
              "      <th rowspan=\"2\" valign=\"top\">-1</th>\n",
              "      <th>-1</th>\n",
              "      <td>3</td>\n",
              "      <td>39.8019</td>\n",
              "      <td>0.4104</td>\n",
              "      <td>0.2370</td>\n",
              "      <td>38.7823</td>\n",
              "      <td>40.8215</td>\n",
              "    </tr>\n",
              "    <tr>\n",
              "      <th>1</th>\n",
              "      <td>3</td>\n",
              "      <td>38.4388</td>\n",
              "      <td>0.2457</td>\n",
              "      <td>0.1419</td>\n",
              "      <td>37.8284</td>\n",
              "      <td>39.0492</td>\n",
              "    </tr>\n",
              "    <tr>\n",
              "      <th rowspan=\"2\" valign=\"top\">1</th>\n",
              "      <th>-1</th>\n",
              "      <td>3</td>\n",
              "      <td>40.3300</td>\n",
              "      <td>0.8170</td>\n",
              "      <td>0.4717</td>\n",
              "      <td>38.3005</td>\n",
              "      <td>42.3596</td>\n",
              "    </tr>\n",
              "    <tr>\n",
              "      <th>1</th>\n",
              "      <td>3</td>\n",
              "      <td>37.2182</td>\n",
              "      <td>0.5192</td>\n",
              "      <td>0.2997</td>\n",
              "      <td>35.9285</td>\n",
              "      <td>38.5079</td>\n",
              "    </tr>\n",
              "  </tbody>\n",
              "</table>\n",
              "</div>"
            ],
            "text/plain": [
              "                                                     N  ...  Interval\n",
              "dataParallelism executorCore learningRate batchSize     ...          \n",
              "-1              -1           -1           -1         3  ...  228.1183\n",
              "                                           1         3  ...  191.7991\n",
              "                              1           -1         3  ...  192.1662\n",
              "                                           1         3  ...  191.1062\n",
              "                 1           -1           -1         3  ...  169.5737\n",
              "                                           1         3  ...  149.8998\n",
              "                              1           -1         3  ...  158.5249\n",
              "                                           1         3  ...  144.0829\n",
              " 1              -1           -1           -1         3  ...   52.8069\n",
              "                                           1         3  ...   50.3459\n",
              "                              1           -1         3  ...   51.8826\n",
              "                                           1         3  ...   50.4044\n",
              "                 1           -1           -1         3  ...   40.8215\n",
              "                                           1         3  ...   39.0492\n",
              "                              1           -1         3  ...   42.3596\n",
              "                                           1         3  ...   38.5079\n",
              "\n",
              "[16 rows x 6 columns]"
            ]
          },
          "metadata": {},
          "execution_count": 15
        }
      ]
    },
    {
      "cell_type": "code",
      "metadata": {
        "colab": {
          "base_uri": "https://localhost:8080/",
          "height": 738
        },
        "id": "YCIeO8CAMHoT",
        "outputId": "337117f5-0c5f-49a8-a8e2-a3890b56abc6"
      },
      "source": [
        "# Fitting the data \n",
        "model_2k_fact = ols('runningTime ~ C(dataParallelism)*C(executorCore)*C(learningRate)*C(batchSize)', df2k).fit()\n",
        "model_2k_fact.summary()"
      ],
      "execution_count": 16,
      "outputs": [
        {
          "output_type": "execute_result",
          "data": {
            "text/html": [
              "<table class=\"simpletable\">\n",
              "<caption>OLS Regression Results</caption>\n",
              "<tr>\n",
              "  <th>Dep. Variable:</th>       <td>runningTime</td>   <th>  R-squared:         </th> <td>   0.997</td>\n",
              "</tr>\n",
              "<tr>\n",
              "  <th>Model:</th>                   <td>OLS</td>       <th>  Adj. R-squared:    </th> <td>   0.996</td>\n",
              "</tr>\n",
              "<tr>\n",
              "  <th>Method:</th>             <td>Least Squares</td>  <th>  F-statistic:       </th> <td>   735.3</td>\n",
              "</tr>\n",
              "<tr>\n",
              "  <th>Date:</th>             <td>Sun, 24 Oct 2021</td> <th>  Prob (F-statistic):</th> <td>3.24e-36</td>\n",
              "</tr>\n",
              "<tr>\n",
              "  <th>Time:</th>                 <td>22:15:19</td>     <th>  Log-Likelihood:    </th> <td> -126.82</td>\n",
              "</tr>\n",
              "<tr>\n",
              "  <th>No. Observations:</th>      <td>    48</td>      <th>  AIC:               </th> <td>   285.6</td>\n",
              "</tr>\n",
              "<tr>\n",
              "  <th>Df Residuals:</th>          <td>    32</td>      <th>  BIC:               </th> <td>   315.6</td>\n",
              "</tr>\n",
              "<tr>\n",
              "  <th>Df Model:</th>              <td>    15</td>      <th>                     </th>     <td> </td>   \n",
              "</tr>\n",
              "<tr>\n",
              "  <th>Covariance Type:</th>      <td>nonrobust</td>    <th>                     </th>     <td> </td>   \n",
              "</tr>\n",
              "</table>\n",
              "<table class=\"simpletable\">\n",
              "<tr>\n",
              "                                           <td></td>                                              <th>coef</th>     <th>std err</th>      <th>t</th>      <th>P>|t|</th>  <th>[0.025</th>    <th>0.975]</th>  \n",
              "</tr>\n",
              "<tr>\n",
              "  <th>Intercept</th>                                                                           <td>  197.7277</td> <td>    2.402</td> <td>   82.303</td> <td> 0.000</td> <td>  192.834</td> <td>  202.621</td>\n",
              "</tr>\n",
              "<tr>\n",
              "  <th>C(dataParallelism)[T.1]</th>                                                             <td> -147.2077</td> <td>    3.398</td> <td>  -43.327</td> <td> 0.000</td> <td> -154.128</td> <td> -140.287</td>\n",
              "</tr>\n",
              "<tr>\n",
              "  <th>C(executorCore)[T.1]</th>                                                                <td>  -45.8818</td> <td>    3.398</td> <td>  -13.504</td> <td> 0.000</td> <td>  -52.802</td> <td>  -38.961</td>\n",
              "</tr>\n",
              "<tr>\n",
              "  <th>C(learningRate)[T.1]</th>                                                                <td>   -7.3317</td> <td>    3.398</td> <td>   -2.158</td> <td> 0.039</td> <td>  -14.252</td> <td>   -0.411</td>\n",
              "</tr>\n",
              "<tr>\n",
              "  <th>C(batchSize)[T.1]</th>                                                                   <td>  -16.8587</td> <td>    3.398</td> <td>   -4.962</td> <td> 0.000</td> <td>  -23.779</td> <td>   -9.938</td>\n",
              "</tr>\n",
              "<tr>\n",
              "  <th>C(dataParallelism)[T.1]:C(executorCore)[T.1]</th>                                        <td>   35.1637</td> <td>    4.805</td> <td>    7.318</td> <td> 0.000</td> <td>   25.377</td> <td>   44.951</td>\n",
              "</tr>\n",
              "<tr>\n",
              "  <th>C(dataParallelism)[T.1]:C(learningRate)[T.1]</th>                                        <td>    8.0442</td> <td>    4.805</td> <td>    1.674</td> <td> 0.104</td> <td>   -1.743</td> <td>   17.831</td>\n",
              "</tr>\n",
              "<tr>\n",
              "  <th>C(executorCore)[T.1]:C(learningRate)[T.1]</th>                                           <td>    5.4290</td> <td>    4.805</td> <td>    1.130</td> <td> 0.267</td> <td>   -4.358</td> <td>   15.216</td>\n",
              "</tr>\n",
              "<tr>\n",
              "  <th>C(dataParallelism)[T.1]:C(batchSize)[T.1]</th>                                           <td>   14.1720</td> <td>    4.805</td> <td>    2.950</td> <td> 0.006</td> <td>    4.385</td> <td>   23.959</td>\n",
              "</tr>\n",
              "<tr>\n",
              "  <th>C(executorCore)[T.1]:C(batchSize)[T.1]</th>                                              <td>    5.2139</td> <td>    4.805</td> <td>    1.085</td> <td> 0.286</td> <td>   -4.573</td> <td>   15.001</td>\n",
              "</tr>\n",
              "<tr>\n",
              "  <th>C(learningRate)[T.1]:C(batchSize)[T.1]</th>                                              <td>    6.8785</td> <td>    4.805</td> <td>    1.432</td> <td> 0.162</td> <td>   -2.909</td> <td>   16.666</td>\n",
              "</tr>\n",
              "<tr>\n",
              "  <th>C(dataParallelism)[T.1]:C(executorCore)[T.1]:C(learningRate)[T.1]</th>                   <td>   -5.6134</td> <td>    6.795</td> <td>   -0.826</td> <td> 0.415</td> <td>  -19.455</td> <td>    8.228</td>\n",
              "</tr>\n",
              "<tr>\n",
              "  <th>C(dataParallelism)[T.1]:C(executorCore)[T.1]:C(batchSize)[T.1]</th>                      <td>   -3.8904</td> <td>    6.795</td> <td>   -0.573</td> <td> 0.571</td> <td>  -17.732</td> <td>    9.951</td>\n",
              "</tr>\n",
              "<tr>\n",
              "  <th>C(dataParallelism)[T.1]:C(learningRate)[T.1]:C(batchSize)[T.1]</th>                      <td>   -7.2524</td> <td>    6.795</td> <td>   -1.067</td> <td> 0.294</td> <td>  -21.094</td> <td>    6.589</td>\n",
              "</tr>\n",
              "<tr>\n",
              "  <th>C(executorCore)[T.1]:C(learningRate)[T.1]:C(batchSize)[T.1]</th>                         <td>   -7.6522</td> <td>    6.795</td> <td>   -1.126</td> <td> 0.268</td> <td>  -21.493</td> <td>    6.189</td>\n",
              "</tr>\n",
              "<tr>\n",
              "  <th>C(dataParallelism)[T.1]:C(executorCore)[T.1]:C(learningRate)[T.1]:C(batchSize)[T.1]</th> <td>    6.2773</td> <td>    9.610</td> <td>    0.653</td> <td> 0.518</td> <td>  -13.297</td> <td>   25.852</td>\n",
              "</tr>\n",
              "</table>\n",
              "<table class=\"simpletable\">\n",
              "<tr>\n",
              "  <th>Omnibus:</th>       <td>22.926</td> <th>  Durbin-Watson:     </th> <td>   3.096</td>\n",
              "</tr>\n",
              "<tr>\n",
              "  <th>Prob(Omnibus):</th> <td> 0.000</td> <th>  Jarque-Bera (JB):  </th> <td>  63.805</td>\n",
              "</tr>\n",
              "<tr>\n",
              "  <th>Skew:</th>          <td> 1.134</td> <th>  Prob(JB):          </th> <td>1.40e-14</td>\n",
              "</tr>\n",
              "<tr>\n",
              "  <th>Kurtosis:</th>      <td> 8.173</td> <th>  Cond. No.          </th> <td>    47.0</td>\n",
              "</tr>\n",
              "</table><br/><br/>Notes:<br/>[1] Standard Errors assume that the covariance matrix of the errors is correctly specified."
            ],
            "text/plain": [
              "<class 'statsmodels.iolib.summary.Summary'>\n",
              "\"\"\"\n",
              "                            OLS Regression Results                            \n",
              "==============================================================================\n",
              "Dep. Variable:            runningTime   R-squared:                       0.997\n",
              "Model:                            OLS   Adj. R-squared:                  0.996\n",
              "Method:                 Least Squares   F-statistic:                     735.3\n",
              "Date:                Sun, 24 Oct 2021   Prob (F-statistic):           3.24e-36\n",
              "Time:                        22:15:19   Log-Likelihood:                -126.82\n",
              "No. Observations:                  48   AIC:                             285.6\n",
              "Df Residuals:                      32   BIC:                             315.6\n",
              "Df Model:                          15                                         \n",
              "Covariance Type:            nonrobust                                         \n",
              "=======================================================================================================================================================\n",
              "                                                                                          coef    std err          t      P>|t|      [0.025      0.975]\n",
              "-------------------------------------------------------------------------------------------------------------------------------------------------------\n",
              "Intercept                                                                             197.7277      2.402     82.303      0.000     192.834     202.621\n",
              "C(dataParallelism)[T.1]                                                              -147.2077      3.398    -43.327      0.000    -154.128    -140.287\n",
              "C(executorCore)[T.1]                                                                  -45.8818      3.398    -13.504      0.000     -52.802     -38.961\n",
              "C(learningRate)[T.1]                                                                   -7.3317      3.398     -2.158      0.039     -14.252      -0.411\n",
              "C(batchSize)[T.1]                                                                     -16.8587      3.398     -4.962      0.000     -23.779      -9.938\n",
              "C(dataParallelism)[T.1]:C(executorCore)[T.1]                                           35.1637      4.805      7.318      0.000      25.377      44.951\n",
              "C(dataParallelism)[T.1]:C(learningRate)[T.1]                                            8.0442      4.805      1.674      0.104      -1.743      17.831\n",
              "C(executorCore)[T.1]:C(learningRate)[T.1]                                               5.4290      4.805      1.130      0.267      -4.358      15.216\n",
              "C(dataParallelism)[T.1]:C(batchSize)[T.1]                                              14.1720      4.805      2.950      0.006       4.385      23.959\n",
              "C(executorCore)[T.1]:C(batchSize)[T.1]                                                  5.2139      4.805      1.085      0.286      -4.573      15.001\n",
              "C(learningRate)[T.1]:C(batchSize)[T.1]                                                  6.8785      4.805      1.432      0.162      -2.909      16.666\n",
              "C(dataParallelism)[T.1]:C(executorCore)[T.1]:C(learningRate)[T.1]                      -5.6134      6.795     -0.826      0.415     -19.455       8.228\n",
              "C(dataParallelism)[T.1]:C(executorCore)[T.1]:C(batchSize)[T.1]                         -3.8904      6.795     -0.573      0.571     -17.732       9.951\n",
              "C(dataParallelism)[T.1]:C(learningRate)[T.1]:C(batchSize)[T.1]                         -7.2524      6.795     -1.067      0.294     -21.094       6.589\n",
              "C(executorCore)[T.1]:C(learningRate)[T.1]:C(batchSize)[T.1]                            -7.6522      6.795     -1.126      0.268     -21.493       6.189\n",
              "C(dataParallelism)[T.1]:C(executorCore)[T.1]:C(learningRate)[T.1]:C(batchSize)[T.1]     6.2773      9.610      0.653      0.518     -13.297      25.852\n",
              "==============================================================================\n",
              "Omnibus:                       22.926   Durbin-Watson:                   3.096\n",
              "Prob(Omnibus):                  0.000   Jarque-Bera (JB):               63.805\n",
              "Skew:                           1.134   Prob(JB):                     1.40e-14\n",
              "Kurtosis:                       8.173   Cond. No.                         47.0\n",
              "==============================================================================\n",
              "\n",
              "Notes:\n",
              "[1] Standard Errors assume that the covariance matrix of the errors is correctly specified.\n",
              "\"\"\""
            ]
          },
          "metadata": {},
          "execution_count": 16
        }
      ]
    },
    {
      "cell_type": "code",
      "metadata": {
        "id": "-ci9isDlMN8c"
      },
      "source": [
        "# Anova analysis of the 2^k factorial design\n",
        "anova_table_2k_fact_2way = sm.stats.anova_lm(model_2k_fact, typ= 2)"
      ],
      "execution_count": 17,
      "outputs": []
    },
    {
      "cell_type": "code",
      "metadata": {
        "colab": {
          "base_uri": "https://localhost:8080/"
        },
        "id": "y9mVcfTvMZGg",
        "outputId": "d7cc9bad-c21d-4571-bfed-39386e19bbfb"
      },
      "source": [
        "# Determining the confidence interval\n",
        "mean_confidence_interval(df2k['runningTime'])"
      ],
      "execution_count": 19,
      "outputs": [
        {
          "output_type": "execute_result",
          "data": {
            "text/plain": [
              "(105.15438595910867, 86.61800894261796, 123.69076297559937)"
            ]
          },
          "metadata": {},
          "execution_count": 19
        }
      ]
    },
    {
      "cell_type": "code",
      "metadata": {
        "colab": {
          "base_uri": "https://localhost:8080/",
          "height": 475
        },
        "id": "zO7-z6UiMtIy",
        "outputId": "6be7e29c-3df3-48a2-a3d2-960ae4d1eac0"
      },
      "source": [
        "# Plots for standard distribution from the model's residuals\n",
        "fig, ax = plt.subplots(1, 2, figsize=(12, 7))\n",
        "sns.histplot(model_2k_fact.resid,kde=True, color ='blue',ax=ax[0])\n",
        "pg.qqplot(model_2k_fact.resid, dist='norm', ax=ax[1])"
      ],
      "execution_count": 20,
      "outputs": [
        {
          "output_type": "execute_result",
          "data": {
            "text/plain": [
              "<matplotlib.axes._subplots.AxesSubplot at 0x7f782a422ad0>"
            ]
          },
          "metadata": {},
          "execution_count": 20
        },
        {
          "output_type": "display_data",
          "data": {
            "image/png": "[encoded data removed]",
            "text/plain": [
              "<Figure size 864x504 with 2 Axes>"
            ]
          },
          "metadata": {
            "needs_background": "light"
          }
        }
      ]
    },
    {
      "cell_type": "code",
      "metadata": {
        "colab": {
          "base_uri": "https://localhost:8080/",
          "height": 296
        },
        "id": "9Jfuc10wM-N6",
        "outputId": "90d54c13-7e2e-47a1-dbf6-2014a0a54e32"
      },
      "source": [
        "# Plot for the importance of data parallelism across running time\n",
        "sns.violinplot(x=\"dataParallelism\", y=\"runningTime\", data=df2k)"
      ],
      "execution_count": 21,
      "outputs": [
        {
          "output_type": "execute_result",
          "data": {
            "text/plain": [
              "<matplotlib.axes._subplots.AxesSubplot at 0x7f782a2eac90>"
            ]
          },
          "metadata": {},
          "execution_count": 21
        },
        {
          "output_type": "display_data",
          "data": {
            "image/png": "[encoded data removed]",
            "text/plain": [
              "<Figure size 432x288 with 1 Axes>"
            ]
          },
          "metadata": {
            "needs_background": "light"
          }
        }
      ]
    },
    {
      "cell_type": "code",
      "metadata": {
        "colab": {
          "base_uri": "https://localhost:8080/",
          "height": 296
        },
        "id": "jLXxVp9BNv6V",
        "outputId": "30771a9f-dcd1-4f90-a98e-e5b238ccbe3c"
      },
      "source": [
        "# Plot for the influence of the running time by data parallelism and batch size\n",
        "sns.violinplot(x=\"dataParallelism\", y=\"runningTime\", data=df2k)"
      ],
      "execution_count": 22,
      "outputs": [
        {
          "output_type": "execute_result",
          "data": {
            "text/plain": [
              "<matplotlib.axes._subplots.AxesSubplot at 0x7f782a293610>"
            ]
          },
          "metadata": {},
          "execution_count": 22
        },
        {
          "output_type": "display_data",
          "data": {
            "image/png": "[encoded data removed]",
            "text/plain": [
              "<Figure size 432x288 with 1 Axes>"
            ]
          },
          "metadata": {
            "needs_background": "light"
          }
        }
      ]
    },
    {
      "cell_type": "markdown",
      "metadata": {
        "id": "NuhCny5yPhN9"
      },
      "source": [
        "**Full Factorial Design**"
      ]
    },
    {
      "cell_type": "code",
      "metadata": {
        "id": "oGvqltiPPmbQ"
      },
      "source": [
        "# Data for 324 experiments (full factorial, 4 factors (4, 3, 3, 3 levels), 3 repetitions)\n",
        "df = pd.read_csv('experimentResults.csv', sep=\";\")"
      ],
      "execution_count": 23,
      "outputs": []
    },
    {
      "cell_type": "code",
      "metadata": {
        "colab": {
          "base_uri": "https://localhost:8080/",
          "height": 484
        },
        "id": "YxT4kJiwPrpf",
        "outputId": "d102e58c-7e5e-4039-9b95-54cad42e654c"
      },
      "source": [
        "# Statistical analysis of the experiments' data\n",
        "rp.summary_cont(df.groupby(['dataParallelism', 'executorCore','learningRate', 'batchSize']))['runningTime']"
      ],
      "execution_count": 24,
      "outputs": [
        {
          "output_type": "stream",
          "name": "stdout",
          "text": [
            "\n",
            "\n"
          ]
        },
        {
          "output_type": "execute_result",
          "data": {
            "text/html": [
              "<div>\n",
              "<style scoped>\n",
              "    .dataframe tbody tr th:only-of-type {\n",
              "        vertical-align: middle;\n",
              "    }\n",
              "\n",
              "    .dataframe tbody tr th {\n",
              "        vertical-align: top;\n",
              "    }\n",
              "\n",
              "    .dataframe thead th {\n",
              "        text-align: right;\n",
              "    }\n",
              "</style>\n",
              "<table border=\"1\" class=\"dataframe\">\n",
              "  <thead>\n",
              "    <tr style=\"text-align: right;\">\n",
              "      <th></th>\n",
              "      <th></th>\n",
              "      <th></th>\n",
              "      <th></th>\n",
              "      <th>N</th>\n",
              "      <th>Mean</th>\n",
              "      <th>SD</th>\n",
              "      <th>SE</th>\n",
              "      <th>95% Conf.</th>\n",
              "      <th>Interval</th>\n",
              "    </tr>\n",
              "    <tr>\n",
              "      <th>dataParallelism</th>\n",
              "      <th>executorCore</th>\n",
              "      <th>learningRate</th>\n",
              "      <th>batchSize</th>\n",
              "      <th></th>\n",
              "      <th></th>\n",
              "      <th></th>\n",
              "      <th></th>\n",
              "      <th></th>\n",
              "      <th></th>\n",
              "    </tr>\n",
              "  </thead>\n",
              "  <tbody>\n",
              "    <tr>\n",
              "      <th rowspan=\"5\" valign=\"top\">1</th>\n",
              "      <th rowspan=\"5\" valign=\"top\">1000m</th>\n",
              "      <th rowspan=\"3\" valign=\"top\">0.01</th>\n",
              "      <th>128</th>\n",
              "      <td>3</td>\n",
              "      <td>190.3960</td>\n",
              "      <td>0.7126</td>\n",
              "      <td>0.4114</td>\n",
              "      <td>188.6259</td>\n",
              "      <td>192.1662</td>\n",
              "    </tr>\n",
              "    <tr>\n",
              "      <th>256</th>\n",
              "      <td>3</td>\n",
              "      <td>201.0765</td>\n",
              "      <td>33.4750</td>\n",
              "      <td>19.3268</td>\n",
              "      <td>117.9200</td>\n",
              "      <td>284.2331</td>\n",
              "    </tr>\n",
              "    <tr>\n",
              "      <th>512</th>\n",
              "      <td>3</td>\n",
              "      <td>180.4158</td>\n",
              "      <td>4.3034</td>\n",
              "      <td>2.4846</td>\n",
              "      <td>169.7255</td>\n",
              "      <td>191.1062</td>\n",
              "    </tr>\n",
              "    <tr>\n",
              "      <th rowspan=\"2\" valign=\"top\">0.02</th>\n",
              "      <th>128</th>\n",
              "      <td>3</td>\n",
              "      <td>192.3618</td>\n",
              "      <td>10.7864</td>\n",
              "      <td>6.2275</td>\n",
              "      <td>165.5670</td>\n",
              "      <td>219.1566</td>\n",
              "    </tr>\n",
              "    <tr>\n",
              "      <th>256</th>\n",
              "      <td>3</td>\n",
              "      <td>221.3194</td>\n",
              "      <td>34.8013</td>\n",
              "      <td>20.0926</td>\n",
              "      <td>134.8681</td>\n",
              "      <td>307.7707</td>\n",
              "    </tr>\n",
              "    <tr>\n",
              "      <th>...</th>\n",
              "      <th>...</th>\n",
              "      <th>...</th>\n",
              "      <th>...</th>\n",
              "      <td>...</td>\n",
              "      <td>...</td>\n",
              "      <td>...</td>\n",
              "      <td>...</td>\n",
              "      <td>...</td>\n",
              "      <td>...</td>\n",
              "    </tr>\n",
              "    <tr>\n",
              "      <th rowspan=\"5\" valign=\"top\">4</th>\n",
              "      <th rowspan=\"5\" valign=\"top\">1250m</th>\n",
              "      <th rowspan=\"2\" valign=\"top\">0.02</th>\n",
              "      <th>256</th>\n",
              "      <td>3</td>\n",
              "      <td>37.9024</td>\n",
              "      <td>0.5227</td>\n",
              "      <td>0.3018</td>\n",
              "      <td>36.6039</td>\n",
              "      <td>39.2010</td>\n",
              "    </tr>\n",
              "    <tr>\n",
              "      <th>512</th>\n",
              "      <td>3</td>\n",
              "      <td>38.2355</td>\n",
              "      <td>1.3553</td>\n",
              "      <td>0.7825</td>\n",
              "      <td>34.8688</td>\n",
              "      <td>41.6022</td>\n",
              "    </tr>\n",
              "    <tr>\n",
              "      <th rowspan=\"3\" valign=\"top\">0.04</th>\n",
              "      <th>128</th>\n",
              "      <td>3</td>\n",
              "      <td>39.8019</td>\n",
              "      <td>0.4104</td>\n",
              "      <td>0.2370</td>\n",
              "      <td>38.7823</td>\n",
              "      <td>40.8215</td>\n",
              "    </tr>\n",
              "    <tr>\n",
              "      <th>256</th>\n",
              "      <td>3</td>\n",
              "      <td>38.5256</td>\n",
              "      <td>0.8991</td>\n",
              "      <td>0.5191</td>\n",
              "      <td>36.2922</td>\n",
              "      <td>40.7590</td>\n",
              "    </tr>\n",
              "    <tr>\n",
              "      <th>512</th>\n",
              "      <td>3</td>\n",
              "      <td>38.4388</td>\n",
              "      <td>0.2457</td>\n",
              "      <td>0.1419</td>\n",
              "      <td>37.8284</td>\n",
              "      <td>39.0492</td>\n",
              "    </tr>\n",
              "  </tbody>\n",
              "</table>\n",
              "<p>108 rows × 6 columns</p>\n",
              "</div>"
            ],
            "text/plain": [
              "                                                     N  ...  Interval\n",
              "dataParallelism executorCore learningRate batchSize     ...          \n",
              "1               1000m        0.01         128        3  ...  192.1662\n",
              "                                          256        3  ...  284.2331\n",
              "                                          512        3  ...  191.1062\n",
              "                             0.02         128        3  ...  219.1566\n",
              "                                          256        3  ...  307.7707\n",
              "...                                                 ..  ...       ...\n",
              "4               1250m        0.02         256        3  ...   39.2010\n",
              "                                          512        3  ...   41.6022\n",
              "                             0.04         128        3  ...   40.8215\n",
              "                                          256        3  ...   40.7590\n",
              "                                          512        3  ...   39.0492\n",
              "\n",
              "[108 rows x 6 columns]"
            ]
          },
          "metadata": {},
          "execution_count": 24
        }
      ]
    },
    {
      "cell_type": "code",
      "metadata": {
        "colab": {
          "base_uri": "https://localhost:8080/",
          "height": 1000
        },
        "id": "0CfMoqLePxZf",
        "outputId": "e8923243-2b6a-4e77-c637-c9049343af65"
      },
      "source": [
        "# Fitting data in the model\n",
        "model_full_fact = ols('runningTime ~ C(dataParallelism)*C(executorCore)*C(learningRate)*C(batchSize)', df).fit()\n",
        "model_full_fact.summary2(float_format=\"%.5f\")"
      ],
      "execution_count": 25,
      "outputs": [
        {
          "output_type": "execute_result",
          "data": {
            "text/html": [
              "<table class=\"simpletable\">\n",
              "<tr>\n",
              "        <td>Model:</td>               <td>OLS</td>         <td>Adj. R-squared:</td>     <td>0.984</td>  \n",
              "</tr>\n",
              "<tr>\n",
              "  <td>Dependent Variable:</td>    <td>runningTime</td>          <td>AIC:</td>         <td>2190.8325</td>\n",
              "</tr>\n",
              "<tr>\n",
              "         <td>Date:</td>        <td>2021-10-24 22:15</td>        <td>BIC:</td>         <td>2599.1528</td>\n",
              "</tr>\n",
              "<tr>\n",
              "   <td>No. Observations:</td>         <td>324</td>         <td>Log-Likelihood:</td>    <td>-987.42</td> \n",
              "</tr>\n",
              "<tr>\n",
              "       <td>Df Model:</td>             <td>107</td>          <td>F-statistic:</td>       <td>190.3</td>  \n",
              "</tr>\n",
              "<tr>\n",
              "     <td>Df Residuals:</td>           <td>216</td>       <td>Prob (F-statistic):</td> <td>8.12e-172</td>\n",
              "</tr>\n",
              "<tr>\n",
              "      <td>R-squared:</td>            <td>0.990</td>            <td>Scale:</td>         <td>38.968</td>  \n",
              "</tr>\n",
              "</table>\n",
              "<table class=\"simpletable\">\n",
              "<tr>\n",
              "                                                <td></td>                                                 <th>Coef.</th>   <th>Std.Err.</th>     <th>t</th>     <th>P>|t|</th>  <th>[0.025</th>    <th>0.975]</th>  \n",
              "</tr>\n",
              "<tr>\n",
              "  <th>Intercept</th>                                                                                    <td>190.3960</td>   <td>3.6041</td>   <td>52.8278</td> <td>0.0000</td> <td>183.2923</td>  <td>197.4997</td> \n",
              "</tr>\n",
              "<tr>\n",
              "  <th>C(dataParallelism)[T.2]</th>                                                                      <td>-91.6511</td>   <td>5.0970</td>  <td>-17.9816</td> <td>0.0000</td> <td>-101.6973</td> <td>-81.6050</td> \n",
              "</tr>\n",
              "<tr>\n",
              "  <th>C(dataParallelism)[T.3]</th>                                                                      <td>-122.9012</td>  <td>5.0970</td>  <td>-24.1127</td> <td>0.0000</td> <td>-132.9473</td> <td>-112.8551</td>\n",
              "</tr>\n",
              "<tr>\n",
              "  <th>C(dataParallelism)[T.4]</th>                                                                      <td>-139.1635</td>  <td>5.0970</td>  <td>-27.3033</td> <td>0.0000</td> <td>-149.2097</td> <td>-129.1174</td>\n",
              "</tr>\n",
              "<tr>\n",
              "  <th>C(executorCore)[T.1125m]</th>                                                                      <td>-0.1873</td>   <td>5.0970</td>   <td>-0.0368</td> <td>0.9707</td> <td>-10.2334</td>   <td>9.8588</td>  \n",
              "</tr>\n",
              "<tr>\n",
              "  <th>C(executorCore)[T.1250m]</th>                                                                     <td>-40.4528</td>   <td>5.0970</td>   <td>-7.9367</td> <td>0.0000</td> <td>-50.4989</td>  <td>-30.4067</td> \n",
              "</tr>\n",
              "<tr>\n",
              "  <th>C(learningRate)[T.0.02]</th>                                                                       <td>1.9658</td>    <td>5.0970</td>   <td>0.3857</td>  <td>0.7001</td>  <td>-8.0804</td>   <td>12.0119</td> \n",
              "</tr>\n",
              "<tr>\n",
              "  <th>C(learningRate)[T.0.04]</th>                                                                       <td>7.3317</td>    <td>5.0970</td>   <td>1.4384</td>  <td>0.1518</td>  <td>-2.7145</td>   <td>17.3778</td> \n",
              "</tr>\n",
              "<tr>\n",
              "  <th>C(batchSize)[T.256]</th>                                                                           <td>10.6805</td>   <td>5.0970</td>   <td>2.0955</td>  <td>0.0373</td>  <td>0.6344</td>    <td>20.7266</td> \n",
              "</tr>\n",
              "<tr>\n",
              "  <th>C(batchSize)[T.512]</th>                                                                           <td>-9.9802</td>   <td>5.0970</td>   <td>-1.9581</td> <td>0.0515</td> <td>-20.0263</td>   <td>0.0659</td>  \n",
              "</tr>\n",
              "<tr>\n",
              "  <th>C(dataParallelism)[T.2]:C(executorCore)[T.1125m]</th>                                              <td>-9.8445</td>   <td>7.2082</td>   <td>-1.3657</td> <td>0.1734</td> <td>-24.0518</td>   <td>4.3629</td>  \n",
              "</tr>\n",
              "<tr>\n",
              "  <th>C(dataParallelism)[T.3]:C(executorCore)[T.1125m]</th>                                              <td>-7.4200</td>   <td>7.2082</td>   <td>-1.0294</td> <td>0.3045</td> <td>-21.6273</td>   <td>6.7874</td>  \n",
              "</tr>\n",
              "<tr>\n",
              "  <th>C(dataParallelism)[T.4]:C(executorCore)[T.1125m]</th>                                              <td>-5.9476</td>   <td>7.2082</td>   <td>-0.8251</td> <td>0.4102</td> <td>-20.1549</td>   <td>8.2598</td>  \n",
              "</tr>\n",
              "<tr>\n",
              "  <th>C(dataParallelism)[T.2]:C(executorCore)[T.1250m]</th>                                              <td>20.5367</td>   <td>7.2082</td>   <td>2.8491</td>  <td>0.0048</td>  <td>6.3293</td>    <td>34.7441</td> \n",
              "</tr>\n",
              "<tr>\n",
              "  <th>C(dataParallelism)[T.3]:C(executorCore)[T.1250m]</th>                                              <td>27.0238</td>   <td>7.2082</td>   <td>3.7491</td>  <td>0.0002</td>  <td>12.8165</td>   <td>41.2312</td> \n",
              "</tr>\n",
              "<tr>\n",
              "  <th>C(dataParallelism)[T.4]:C(executorCore)[T.1250m]</th>                                              <td>29.5503</td>   <td>7.2082</td>   <td>4.0996</td>  <td>0.0001</td>  <td>15.3430</td>   <td>43.7577</td> \n",
              "</tr>\n",
              "<tr>\n",
              "  <th>C(dataParallelism)[T.2]:C(learningRate)[T.0.02]</th>                                               <td>-2.2940</td>   <td>7.2082</td>   <td>-0.3183</td> <td>0.7506</td> <td>-16.5014</td>   <td>11.9134</td> \n",
              "</tr>\n",
              "<tr>\n",
              "  <th>C(dataParallelism)[T.3]:C(learningRate)[T.0.02]</th>                                               <td>-2.5894</td>   <td>7.2082</td>   <td>-0.3592</td> <td>0.7198</td> <td>-16.7968</td>   <td>11.6180</td> \n",
              "</tr>\n",
              "<tr>\n",
              "  <th>C(dataParallelism)[T.4]:C(learningRate)[T.0.02]</th>                                               <td>-2.6743</td>   <td>7.2082</td>   <td>-0.3710</td> <td>0.7110</td> <td>-16.8816</td>   <td>11.5331</td> \n",
              "</tr>\n",
              "<tr>\n",
              "  <th>C(dataParallelism)[T.2]:C(learningRate)[T.0.04]</th>                                               <td>-9.3034</td>   <td>7.2082</td>   <td>-1.2907</td> <td>0.1982</td> <td>-23.5108</td>   <td>4.9039</td>  \n",
              "</tr>\n",
              "<tr>\n",
              "  <th>C(dataParallelism)[T.3]:C(learningRate)[T.0.04]</th>                                               <td>-7.7675</td>   <td>7.2082</td>   <td>-1.0776</td> <td>0.2824</td> <td>-21.9748</td>   <td>6.4399</td>  \n",
              "</tr>\n",
              "<tr>\n",
              "  <th>C(dataParallelism)[T.4]:C(learningRate)[T.0.04]</th>                                               <td>-8.0442</td>   <td>7.2082</td>   <td>-1.1160</td> <td>0.2657</td> <td>-22.2515</td>   <td>6.1632</td>  \n",
              "</tr>\n",
              "<tr>\n",
              "  <th>C(executorCore)[T.1125m]:C(learningRate)[T.0.02]</th>                                             <td>-22.3335</td>   <td>7.2082</td>   <td>-3.0984</td> <td>0.0022</td> <td>-36.5408</td>   <td>-8.1261</td> \n",
              "</tr>\n",
              "<tr>\n",
              "  <th>C(executorCore)[T.1250m]:C(learningRate)[T.0.02]</th>                                              <td>-0.2494</td>   <td>7.2082</td>   <td>-0.0346</td> <td>0.9724</td> <td>-14.4567</td>   <td>13.9580</td> \n",
              "</tr>\n",
              "<tr>\n",
              "  <th>C(executorCore)[T.1125m]:C(learningRate)[T.0.04]</th>                                             <td>-26.0600</td>   <td>7.2082</td>   <td>-3.6153</td> <td>0.0004</td> <td>-40.2673</td>  <td>-11.8526</td> \n",
              "</tr>\n",
              "<tr>\n",
              "  <th>C(executorCore)[T.1250m]:C(learningRate)[T.0.04]</th>                                              <td>-5.4290</td>   <td>7.2082</td>   <td>-0.7532</td> <td>0.4522</td> <td>-19.6364</td>   <td>8.7784</td>  \n",
              "</tr>\n",
              "<tr>\n",
              "  <th>C(dataParallelism)[T.2]:C(batchSize)[T.256]</th>                                                  <td>-16.9810</td>   <td>7.2082</td>   <td>-2.3558</td> <td>0.0194</td> <td>-31.1884</td>   <td>-2.7736</td> \n",
              "</tr>\n",
              "<tr>\n",
              "  <th>C(dataParallelism)[T.3]:C(batchSize)[T.256]</th>                                                  <td>-16.3981</td>   <td>7.2082</td>   <td>-2.2749</td> <td>0.0239</td> <td>-30.6055</td>   <td>-2.1907</td> \n",
              "</tr>\n",
              "<tr>\n",
              "  <th>C(dataParallelism)[T.4]:C(batchSize)[T.256]</th>                                                  <td>-14.2116</td>   <td>7.2082</td>   <td>-1.9716</td> <td>0.0499</td> <td>-28.4190</td>   <td>-0.0043</td> \n",
              "</tr>\n",
              "<tr>\n",
              "  <th>C(dataParallelism)[T.2]:C(batchSize)[T.512]</th>                                                   <td>7.6012</td>    <td>7.2082</td>   <td>1.0545</td>  <td>0.2928</td>  <td>-6.6062</td>   <td>21.8086</td> \n",
              "</tr>\n",
              "<tr>\n",
              "  <th>C(dataParallelism)[T.3]:C(batchSize)[T.512]</th>                                                   <td>4.8763</td>    <td>7.2082</td>   <td>0.6765</td>  <td>0.4994</td>  <td>-9.3310</td>   <td>19.0837</td> \n",
              "</tr>\n",
              "<tr>\n",
              "  <th>C(dataParallelism)[T.4]:C(batchSize)[T.512]</th>                                                   <td>6.9196</td>    <td>7.2082</td>   <td>0.9600</td>  <td>0.3381</td>  <td>-7.2877</td>   <td>21.1270</td> \n",
              "</tr>\n",
              "<tr>\n",
              "  <th>C(executorCore)[T.1125m]:C(batchSize)[T.256]</th>                                                 <td>-42.1687</td>   <td>7.2082</td>   <td>-5.8501</td> <td>0.0000</td> <td>-56.3761</td>  <td>-27.9614</td> \n",
              "</tr>\n",
              "<tr>\n",
              "  <th>C(executorCore)[T.1250m]:C(batchSize)[T.256]</th>                                                 <td>-17.5267</td>   <td>7.2082</td>   <td>-2.4315</td> <td>0.0159</td> <td>-31.7341</td>   <td>-3.3194</td> \n",
              "</tr>\n",
              "<tr>\n",
              "  <th>C(executorCore)[T.1125m]:C(batchSize)[T.512]</th>                                                 <td>-23.0689</td>   <td>7.2082</td>   <td>-3.2004</td> <td>0.0016</td> <td>-37.2763</td>   <td>-8.8615</td> \n",
              "</tr>\n",
              "<tr>\n",
              "  <th>C(executorCore)[T.1250m]:C(batchSize)[T.512]</th>                                                  <td>-2.4383</td>   <td>7.2082</td>   <td>-0.3383</td> <td>0.7355</td> <td>-16.6456</td>   <td>11.7691</td> \n",
              "</tr>\n",
              "<tr>\n",
              "  <th>C(learningRate)[T.0.02]:C(batchSize)[T.256]</th>                                                   <td>18.2771</td>   <td>7.2082</td>   <td>2.5356</td>  <td>0.0119</td>  <td>4.0697</td>    <td>32.4845</td> \n",
              "</tr>\n",
              "<tr>\n",
              "  <th>C(learningRate)[T.0.04]:C(batchSize)[T.256]</th>                                                  <td>-26.8207</td>   <td>7.2082</td>   <td>-3.7209</td> <td>0.0003</td> <td>-41.0281</td>  <td>-12.6133</td> \n",
              "</tr>\n",
              "<tr>\n",
              "  <th>C(learningRate)[T.0.02]:C(batchSize)[T.512]</th>                                                   <td>0.9550</td>    <td>7.2082</td>   <td>0.1325</td>  <td>0.8947</td> <td>-13.2524</td>   <td>15.1623</td> \n",
              "</tr>\n",
              "<tr>\n",
              "  <th>C(learningRate)[T.0.04]:C(batchSize)[T.512]</th>                                                   <td>-6.8785</td>   <td>7.2082</td>   <td>-0.9543</td> <td>0.3410</td> <td>-21.0859</td>   <td>7.3288</td>  \n",
              "</tr>\n",
              "<tr>\n",
              "  <th>C(dataParallelism)[T.2]:C(executorCore)[T.1125m]:C(learningRate)[T.0.02]</th>                      <td>20.4793</td>   <td>10.1939</td>  <td>2.0090</td>  <td>0.0458</td>  <td>0.3871</td>    <td>40.5716</td> \n",
              "</tr>\n",
              "<tr>\n",
              "  <th>C(dataParallelism)[T.3]:C(executorCore)[T.1125m]:C(learningRate)[T.0.02]</th>                      <td>22.6703</td>   <td>10.1939</td>  <td>2.2239</td>  <td>0.0272</td>  <td>2.5780</td>    <td>42.7625</td> \n",
              "</tr>\n",
              "<tr>\n",
              "  <th>C(dataParallelism)[T.4]:C(executorCore)[T.1125m]:C(learningRate)[T.0.02]</th>                      <td>22.9939</td>   <td>10.1939</td>  <td>2.2557</td>  <td>0.0251</td>  <td>2.9016</td>    <td>43.0862</td> \n",
              "</tr>\n",
              "<tr>\n",
              "  <th>C(dataParallelism)[T.2]:C(executorCore)[T.1250m]:C(learningRate)[T.0.02]</th>                      <td>1.2621</td>    <td>10.1939</td>  <td>0.1238</td>  <td>0.9016</td> <td>-18.8302</td>   <td>21.3544</td> \n",
              "</tr>\n",
              "<tr>\n",
              "  <th>C(dataParallelism)[T.3]:C(executorCore)[T.1250m]:C(learningRate)[T.0.02]</th>                      <td>-0.0691</td>   <td>10.1939</td>  <td>-0.0068</td> <td>0.9946</td> <td>-20.1614</td>   <td>20.0231</td> \n",
              "</tr>\n",
              "<tr>\n",
              "  <th>C(dataParallelism)[T.4]:C(executorCore)[T.1250m]:C(learningRate)[T.0.02]</th>                      <td>1.1096</td>    <td>10.1939</td>  <td>0.1089</td>  <td>0.9134</td> <td>-18.9826</td>   <td>21.2019</td> \n",
              "</tr>\n",
              "<tr>\n",
              "  <th>C(dataParallelism)[T.2]:C(executorCore)[T.1125m]:C(learningRate)[T.0.04]</th>                      <td>23.8805</td>   <td>10.1939</td>  <td>2.3426</td>  <td>0.0201</td>  <td>3.7883</td>    <td>43.9728</td> \n",
              "</tr>\n",
              "<tr>\n",
              "  <th>C(dataParallelism)[T.3]:C(executorCore)[T.1125m]:C(learningRate)[T.0.04]</th>                      <td>26.4439</td>   <td>10.1939</td>  <td>2.5941</td>  <td>0.0101</td>  <td>6.3516</td>    <td>46.5361</td> \n",
              "</tr>\n",
              "<tr>\n",
              "  <th>C(dataParallelism)[T.4]:C(executorCore)[T.1125m]:C(learningRate)[T.0.04]</th>                      <td>25.7262</td>   <td>10.1939</td>  <td>2.5237</td>  <td>0.0123</td>  <td>5.6339</td>    <td>45.8184</td> \n",
              "</tr>\n",
              "<tr>\n",
              "  <th>C(dataParallelism)[T.2]:C(executorCore)[T.1250m]:C(learningRate)[T.0.04]</th>                      <td>6.8278</td>    <td>10.1939</td>  <td>0.6698</td>  <td>0.5037</td> <td>-13.2645</td>   <td>26.9200</td> \n",
              "</tr>\n",
              "<tr>\n",
              "  <th>C(dataParallelism)[T.3]:C(executorCore)[T.1250m]:C(learningRate)[T.0.04]</th>                      <td>5.2900</td>    <td>10.1939</td>  <td>0.5189</td>  <td>0.6043</td> <td>-14.8023</td>   <td>25.3822</td> \n",
              "</tr>\n",
              "<tr>\n",
              "  <th>C(dataParallelism)[T.4]:C(executorCore)[T.1250m]:C(learningRate)[T.0.04]</th>                      <td>5.6134</td>    <td>10.1939</td>  <td>0.5507</td>  <td>0.5824</td> <td>-14.4789</td>   <td>25.7056</td> \n",
              "</tr>\n",
              "<tr>\n",
              "  <th>C(dataParallelism)[T.2]:C(executorCore)[T.1125m]:C(batchSize)[T.256]</th>                          <td>41.5182</td>   <td>10.1939</td>  <td>4.0729</td>  <td>0.0001</td>  <td>21.4260</td>   <td>61.6105</td> \n",
              "</tr>\n",
              "<tr>\n",
              "  <th>C(dataParallelism)[T.3]:C(executorCore)[T.1125m]:C(batchSize)[T.256]</th>                          <td>43.6565</td>   <td>10.1939</td>  <td>4.2826</td>  <td>0.0000</td>  <td>23.5642</td>   <td>63.7487</td> \n",
              "</tr>\n",
              "<tr>\n",
              "  <th>C(dataParallelism)[T.4]:C(executorCore)[T.1125m]:C(batchSize)[T.256]</th>                          <td>43.3987</td>   <td>10.1939</td>  <td>4.2573</td>  <td>0.0000</td>  <td>23.3064</td>   <td>63.4909</td> \n",
              "</tr>\n",
              "<tr>\n",
              "  <th>C(dataParallelism)[T.2]:C(executorCore)[T.1250m]:C(batchSize)[T.256]</th>                          <td>19.5677</td>   <td>10.1939</td>  <td>1.9195</td>  <td>0.0562</td>  <td>-0.5246</td>   <td>39.6599</td> \n",
              "</tr>\n",
              "<tr>\n",
              "  <th>C(dataParallelism)[T.3]:C(executorCore)[T.1250m]:C(batchSize)[T.256]</th>                          <td>19.2621</td>   <td>10.1939</td>  <td>1.8896</td>  <td>0.0602</td>  <td>-0.8302</td>   <td>39.3544</td> \n",
              "</tr>\n",
              "<tr>\n",
              "  <th>C(dataParallelism)[T.4]:C(executorCore)[T.1250m]:C(batchSize)[T.256]</th>                          <td>19.2065</td>   <td>10.1939</td>  <td>1.8841</td>  <td>0.0609</td>  <td>-0.8857</td>   <td>39.2988</td> \n",
              "</tr>\n",
              "<tr>\n",
              "  <th>C(dataParallelism)[T.2]:C(executorCore)[T.1125m]:C(batchSize)[T.512]</th>                          <td>19.8741</td>   <td>10.1939</td>  <td>1.9496</td>  <td>0.0525</td>  <td>-0.2182</td>   <td>39.9663</td> \n",
              "</tr>\n",
              "<tr>\n",
              "  <th>C(dataParallelism)[T.3]:C(executorCore)[T.1125m]:C(batchSize)[T.512]</th>                          <td>23.7497</td>   <td>10.1939</td>  <td>2.3298</td>  <td>0.0207</td>  <td>3.6575</td>    <td>43.8420</td> \n",
              "</tr>\n",
              "<tr>\n",
              "  <th>C(dataParallelism)[T.4]:C(executorCore)[T.1125m]:C(batchSize)[T.512]</th>                          <td>24.0702</td>   <td>10.1939</td>  <td>2.3612</td>  <td>0.0191</td>  <td>3.9779</td>    <td>44.1625</td> \n",
              "</tr>\n",
              "<tr>\n",
              "  <th>C(dataParallelism)[T.2]:C(executorCore)[T.1250m]:C(batchSize)[T.512]</th>                          <td>2.0158</td>    <td>10.1939</td>  <td>0.1978</td>  <td>0.8434</td> <td>-18.0764</td>   <td>22.1081</td> \n",
              "</tr>\n",
              "<tr>\n",
              "  <th>C(dataParallelism)[T.3]:C(executorCore)[T.1250m]:C(batchSize)[T.512]</th>                          <td>2.4643</td>    <td>10.1939</td>  <td>0.2417</td>  <td>0.8092</td> <td>-17.6280</td>   <td>22.5565</td> \n",
              "</tr>\n",
              "<tr>\n",
              "  <th>C(dataParallelism)[T.4]:C(executorCore)[T.1250m]:C(batchSize)[T.512]</th>                          <td>2.3870</td>    <td>10.1939</td>  <td>0.2342</td>  <td>0.8151</td> <td>-17.7053</td>   <td>22.4792</td> \n",
              "</tr>\n",
              "<tr>\n",
              "  <th>C(dataParallelism)[T.2]:C(learningRate)[T.0.02]:C(batchSize)[T.256]</th>                          <td>-17.5484</td>   <td>10.1939</td>  <td>-1.7215</td> <td>0.0866</td> <td>-37.6407</td>   <td>2.5438</td>  \n",
              "</tr>\n",
              "<tr>\n",
              "  <th>C(dataParallelism)[T.3]:C(learningRate)[T.0.02]:C(batchSize)[T.256]</th>                          <td>-17.7499</td>   <td>10.1939</td>  <td>-1.7412</td> <td>0.0831</td> <td>-37.8422</td>   <td>2.3423</td>  \n",
              "</tr>\n",
              "<tr>\n",
              "  <th>C(dataParallelism)[T.4]:C(learningRate)[T.0.02]:C(batchSize)[T.256]</th>                          <td>-17.4151</td>   <td>10.1939</td>  <td>-1.7084</td> <td>0.0890</td> <td>-37.5073</td>   <td>2.6772</td>  \n",
              "</tr>\n",
              "<tr>\n",
              "  <th>C(dataParallelism)[T.2]:C(learningRate)[T.0.04]:C(batchSize)[T.256]</th>                           <td>28.3746</td>   <td>10.1939</td>  <td>2.7835</td>  <td>0.0059</td>  <td>8.2823</td>    <td>48.4668</td> \n",
              "</tr>\n",
              "<tr>\n",
              "  <th>C(dataParallelism)[T.3]:C(learningRate)[T.0.04]:C(batchSize)[T.256]</th>                           <td>27.8231</td>   <td>10.1939</td>  <td>2.7294</td>  <td>0.0069</td>  <td>7.7308</td>    <td>47.9153</td> \n",
              "</tr>\n",
              "<tr>\n",
              "  <th>C(dataParallelism)[T.4]:C(learningRate)[T.0.04]:C(batchSize)[T.256]</th>                           <td>27.0751</td>   <td>10.1939</td>  <td>2.6560</td>  <td>0.0085</td>  <td>6.9829</td>    <td>47.1674</td> \n",
              "</tr>\n",
              "<tr>\n",
              "  <th>C(dataParallelism)[T.2]:C(learningRate)[T.0.02]:C(batchSize)[T.512]</th>                           <td>-3.5793</td>   <td>10.1939</td>  <td>-0.3511</td> <td>0.7258</td> <td>-23.6716</td>   <td>16.5129</td> \n",
              "</tr>\n",
              "<tr>\n",
              "  <th>C(dataParallelism)[T.3]:C(learningRate)[T.0.02]:C(batchSize)[T.512]</th>                           <td>-0.2215</td>   <td>10.1939</td>  <td>-0.0217</td> <td>0.9827</td> <td>-20.3138</td>   <td>19.8707</td> \n",
              "</tr>\n",
              "<tr>\n",
              "  <th>C(dataParallelism)[T.4]:C(learningRate)[T.0.02]:C(batchSize)[T.512]</th>                           <td>-1.1041</td>   <td>10.1939</td>  <td>-0.1083</td> <td>0.9138</td> <td>-21.1964</td>   <td>18.9881</td> \n",
              "</tr>\n",
              "<tr>\n",
              "  <th>C(dataParallelism)[T.2]:C(learningRate)[T.0.04]:C(batchSize)[T.512]</th>                           <td>6.0476</td>    <td>10.1939</td>  <td>0.5933</td>  <td>0.5536</td> <td>-14.0446</td>   <td>26.1399</td> \n",
              "</tr>\n",
              "<tr>\n",
              "  <th>C(dataParallelism)[T.3]:C(learningRate)[T.0.04]:C(batchSize)[T.512]</th>                           <td>5.9779</td>    <td>10.1939</td>  <td>0.5864</td>  <td>0.5582</td> <td>-14.1143</td>   <td>26.0702</td> \n",
              "</tr>\n",
              "<tr>\n",
              "  <th>C(dataParallelism)[T.4]:C(learningRate)[T.0.04]:C(batchSize)[T.512]</th>                           <td>7.2524</td>    <td>10.1939</td>  <td>0.7114</td>  <td>0.4776</td> <td>-12.8398</td>   <td>27.3447</td> \n",
              "</tr>\n",
              "<tr>\n",
              "  <th>C(executorCore)[T.1125m]:C(learningRate)[T.0.02]:C(batchSize)[T.256]</th>                          <td>4.9172</td>    <td>10.1939</td>  <td>0.4824</td>  <td>0.6300</td> <td>-15.1751</td>   <td>25.0095</td> \n",
              "</tr>\n",
              "<tr>\n",
              "  <th>C(executorCore)[T.1250m]:C(learningRate)[T.0.02]:C(batchSize)[T.256]</th>                         <td>-21.2436</td>   <td>10.1939</td>  <td>-2.0840</td> <td>0.0383</td> <td>-41.3359</td>   <td>-1.1514</td> \n",
              "</tr>\n",
              "<tr>\n",
              "  <th>C(executorCore)[T.1125m]:C(learningRate)[T.0.04]:C(batchSize)[T.256]</th>                          <td>44.4874</td>   <td>10.1939</td>  <td>4.3641</td>  <td>0.0000</td>  <td>24.3952</td>   <td>64.5797</td> \n",
              "</tr>\n",
              "<tr>\n",
              "  <th>C(executorCore)[T.1250m]:C(learningRate)[T.0.04]:C(batchSize)[T.256]</th>                          <td>23.1258</td>   <td>10.1939</td>  <td>2.2686</td>  <td>0.0243</td>  <td>3.0335</td>    <td>43.2180</td> \n",
              "</tr>\n",
              "<tr>\n",
              "  <th>C(executorCore)[T.1125m]:C(learningRate)[T.0.02]:C(batchSize)[T.512]</th>                          <td>15.4057</td>   <td>10.1939</td>  <td>1.5113</td>  <td>0.1322</td>  <td>-4.6866</td>   <td>35.4979</td> \n",
              "</tr>\n",
              "<tr>\n",
              "  <th>C(executorCore)[T.1250m]:C(learningRate)[T.0.02]:C(batchSize)[T.512]</th>                          <td>7.3509</td>    <td>10.1939</td>  <td>0.7211</td>  <td>0.4716</td> <td>-12.7413</td>   <td>27.4432</td> \n",
              "</tr>\n",
              "<tr>\n",
              "  <th>C(executorCore)[T.1125m]:C(learningRate)[T.0.04]:C(batchSize)[T.512]</th>                          <td>26.2987</td>   <td>10.1939</td>  <td>2.5798</td>  <td>0.0105</td>  <td>6.2064</td>    <td>46.3909</td> \n",
              "</tr>\n",
              "<tr>\n",
              "  <th>C(executorCore)[T.1250m]:C(learningRate)[T.0.04]:C(batchSize)[T.512]</th>                          <td>7.6522</td>    <td>10.1939</td>  <td>0.7507</td>  <td>0.4537</td> <td>-12.4401</td>   <td>27.7444</td> \n",
              "</tr>\n",
              "<tr>\n",
              "  <th>C(dataParallelism)[T.2]:C(executorCore)[T.1125m]:C(learningRate)[T.0.02]:C(batchSize)[T.256]</th>  <td>-2.5832</td>   <td>14.4164</td>  <td>-0.1792</td> <td>0.8580</td> <td>-30.9979</td>   <td>25.8316</td> \n",
              "</tr>\n",
              "<tr>\n",
              "  <th>C(dataParallelism)[T.3]:C(executorCore)[T.1125m]:C(learningRate)[T.0.02]:C(batchSize)[T.256]</th>  <td>-5.4927</td>   <td>14.4164</td>  <td>-0.3810</td> <td>0.7036</td> <td>-33.9075</td>   <td>22.9220</td> \n",
              "</tr>\n",
              "<tr>\n",
              "  <th>C(dataParallelism)[T.4]:C(executorCore)[T.1125m]:C(learningRate)[T.0.02]:C(batchSize)[T.256]</th>  <td>-5.6623</td>   <td>14.4164</td>  <td>-0.3928</td> <td>0.6949</td> <td>-34.0770</td>   <td>22.7525</td> \n",
              "</tr>\n",
              "<tr>\n",
              "  <th>C(dataParallelism)[T.2]:C(executorCore)[T.1250m]:C(learningRate)[T.0.02]:C(batchSize)[T.256]</th>  <td>19.5429</td>   <td>14.4164</td>  <td>1.3556</td>  <td>0.1766</td>  <td>-8.8718</td>   <td>47.9576</td> \n",
              "</tr>\n",
              "<tr>\n",
              "  <th>C(dataParallelism)[T.3]:C(executorCore)[T.1250m]:C(learningRate)[T.0.02]:C(batchSize)[T.256]</th>  <td>21.0466</td>   <td>14.4164</td>  <td>1.4599</td>  <td>0.1458</td>  <td>-7.3681</td>   <td>49.4614</td> \n",
              "</tr>\n",
              "<tr>\n",
              "  <th>C(dataParallelism)[T.4]:C(executorCore)[T.1250m]:C(learningRate)[T.0.02]:C(batchSize)[T.256]</th>  <td>19.6535</td>   <td>14.4164</td>  <td>1.3633</td>  <td>0.1742</td>  <td>-8.7612</td>   <td>48.0683</td> \n",
              "</tr>\n",
              "<tr>\n",
              "  <th>C(dataParallelism)[T.2]:C(executorCore)[T.1125m]:C(learningRate)[T.0.04]:C(batchSize)[T.256]</th> <td>-42.9503</td>   <td>14.4164</td>  <td>-2.9793</td> <td>0.0032</td> <td>-71.3650</td>  <td>-14.5356</td> \n",
              "</tr>\n",
              "<tr>\n",
              "  <th>C(dataParallelism)[T.3]:C(executorCore)[T.1125m]:C(learningRate)[T.0.04]:C(batchSize)[T.256]</th> <td>-46.9889</td>   <td>14.4164</td>  <td>-3.2594</td> <td>0.0013</td> <td>-75.4036</td>  <td>-18.5741</td> \n",
              "</tr>\n",
              "<tr>\n",
              "  <th>C(dataParallelism)[T.4]:C(executorCore)[T.1125m]:C(learningRate)[T.0.04]:C(batchSize)[T.256]</th> <td>-44.8811</td>   <td>14.4164</td>  <td>-3.1132</td> <td>0.0021</td> <td>-73.2959</td>  <td>-16.4664</td> \n",
              "</tr>\n",
              "<tr>\n",
              "  <th>C(dataParallelism)[T.2]:C(executorCore)[T.1250m]:C(learningRate)[T.0.04]:C(batchSize)[T.256]</th> <td>-26.1207</td>   <td>14.4164</td>  <td>-1.8119</td> <td>0.0714</td> <td>-54.5355</td>   <td>2.2940</td>  \n",
              "</tr>\n",
              "<tr>\n",
              "  <th>C(dataParallelism)[T.3]:C(executorCore)[T.1250m]:C(learningRate)[T.0.04]:C(batchSize)[T.256]</th> <td>-25.2945</td>   <td>14.4164</td>  <td>-1.7546</td> <td>0.0808</td> <td>-53.7092</td>   <td>3.1203</td>  \n",
              "</tr>\n",
              "<tr>\n",
              "  <th>C(dataParallelism)[T.4]:C(executorCore)[T.1250m]:C(learningRate)[T.0.04]:C(batchSize)[T.256]</th> <td>-22.8052</td>   <td>14.4164</td>  <td>-1.5819</td> <td>0.1151</td> <td>-51.2199</td>   <td>5.6096</td>  \n",
              "</tr>\n",
              "<tr>\n",
              "  <th>C(dataParallelism)[T.2]:C(executorCore)[T.1125m]:C(learningRate)[T.0.02]:C(batchSize)[T.512]</th> <td>-12.2765</td>   <td>14.4164</td>  <td>-0.8516</td> <td>0.3954</td> <td>-40.6912</td>   <td>16.1382</td> \n",
              "</tr>\n",
              "<tr>\n",
              "  <th>C(dataParallelism)[T.3]:C(executorCore)[T.1125m]:C(learningRate)[T.0.02]:C(batchSize)[T.512]</th> <td>-16.6258</td>   <td>14.4164</td>  <td>-1.1533</td> <td>0.2501</td> <td>-45.0406</td>   <td>11.7889</td> \n",
              "</tr>\n",
              "<tr>\n",
              "  <th>C(dataParallelism)[T.4]:C(executorCore)[T.1125m]:C(learningRate)[T.0.02]:C(batchSize)[T.512]</th> <td>-16.2048</td>   <td>14.4164</td>  <td>-1.1241</td> <td>0.2622</td> <td>-44.6195</td>   <td>12.2099</td> \n",
              "</tr>\n",
              "<tr>\n",
              "  <th>C(dataParallelism)[T.2]:C(executorCore)[T.1250m]:C(learningRate)[T.0.02]:C(batchSize)[T.512]</th>  <td>-5.5210</td>   <td>14.4164</td>  <td>-0.3830</td> <td>0.7021</td> <td>-33.9358</td>   <td>22.8937</td> \n",
              "</tr>\n",
              "<tr>\n",
              "  <th>C(dataParallelism)[T.3]:C(executorCore)[T.1250m]:C(learningRate)[T.0.02]:C(batchSize)[T.512]</th>  <td>-6.4614</td>   <td>14.4164</td>  <td>-0.4482</td> <td>0.6545</td> <td>-34.8762</td>   <td>21.9533</td> \n",
              "</tr>\n",
              "<tr>\n",
              "  <th>C(dataParallelism)[T.4]:C(executorCore)[T.1250m]:C(learningRate)[T.0.02]:C(batchSize)[T.512]</th>  <td>-6.3362</td>   <td>14.4164</td>  <td>-0.4395</td> <td>0.6607</td> <td>-34.7509</td>   <td>22.0786</td> \n",
              "</tr>\n",
              "<tr>\n",
              "  <th>C(dataParallelism)[T.2]:C(executorCore)[T.1125m]:C(learningRate)[T.0.04]:C(batchSize)[T.512]</th> <td>-21.2484</td>   <td>14.4164</td>  <td>-1.4739</td> <td>0.1420</td> <td>-49.6631</td>   <td>7.1663</td>  \n",
              "</tr>\n",
              "<tr>\n",
              "  <th>C(dataParallelism)[T.3]:C(executorCore)[T.1125m]:C(learningRate)[T.0.04]:C(batchSize)[T.512]</th> <td>-26.0530</td>   <td>14.4164</td>  <td>-1.8072</td> <td>0.0721</td> <td>-54.4677</td>   <td>2.3618</td>  \n",
              "</tr>\n",
              "<tr>\n",
              "  <th>C(dataParallelism)[T.4]:C(executorCore)[T.1125m]:C(learningRate)[T.0.04]:C(batchSize)[T.512]</th> <td>-27.2648</td>   <td>14.4164</td>  <td>-1.8912</td> <td>0.0599</td> <td>-55.6795</td>   <td>1.1500</td>  \n",
              "</tr>\n",
              "<tr>\n",
              "  <th>C(dataParallelism)[T.2]:C(executorCore)[T.1250m]:C(learningRate)[T.0.04]:C(batchSize)[T.512]</th>  <td>-8.7060</td>   <td>14.4164</td>  <td>-0.6039</td> <td>0.5465</td> <td>-37.1207</td>   <td>19.7088</td> \n",
              "</tr>\n",
              "<tr>\n",
              "  <th>C(dataParallelism)[T.3]:C(executorCore)[T.1250m]:C(learningRate)[T.0.04]:C(batchSize)[T.512]</th>  <td>-6.7103</td>   <td>14.4164</td>  <td>-0.4655</td> <td>0.6421</td> <td>-35.1251</td>   <td>21.7044</td> \n",
              "</tr>\n",
              "<tr>\n",
              "  <th>C(dataParallelism)[T.4]:C(executorCore)[T.1250m]:C(learningRate)[T.0.04]:C(batchSize)[T.512]</th>  <td>-6.2773</td>   <td>14.4164</td>  <td>-0.4354</td> <td>0.6637</td> <td>-34.6921</td>   <td>22.1374</td> \n",
              "</tr>\n",
              "</table>\n",
              "<table class=\"simpletable\">\n",
              "<tr>\n",
              "     <td>Omnibus:</td>    <td>149.983</td>  <td>Durbin-Watson:</td>     <td>2.771</td>  \n",
              "</tr>\n",
              "<tr>\n",
              "  <td>Prob(Omnibus):</td>  <td>0.000</td>  <td>Jarque-Bera (JB):</td> <td>14201.865</td>\n",
              "</tr>\n",
              "<tr>\n",
              "       <td>Skew:</td>      <td>0.891</td>      <td>Prob(JB):</td>       <td>0.000</td>  \n",
              "</tr>\n",
              "<tr>\n",
              "     <td>Kurtosis:</td>   <td>35.385</td>   <td>Condition No.:</td>      <td>249</td>   \n",
              "</tr>\n",
              "</table>"
            ],
            "text/plain": [
              "<class 'statsmodels.iolib.summary2.Summary'>\n",
              "\"\"\"\n",
              "                                                          Results: Ordinary least squares\n",
              "===================================================================================================================================================\n",
              "Model:                                         OLS                                         Adj. R-squared:                                0.984    \n",
              "Dependent Variable:                            runningTime                                 AIC:                                           2190.8325\n",
              "Date:                                          2021-10-24 22:15                            BIC:                                           2599.1528\n",
              "No. Observations:                              324                                         Log-Likelihood:                                -987.42  \n",
              "Df Model:                                      107                                         F-statistic:                                   190.3    \n",
              "Df Residuals:                                  216                                         Prob (F-statistic):                            8.12e-172\n",
              "R-squared:                                     0.990                                       Scale:                                         38.968   \n",
              "---------------------------------------------------------------------------------------------------------------------------------------------------\n",
              "                                                                                               Coef.   Std.Err.    t     P>|t|    [0.025    0.975] \n",
              "---------------------------------------------------------------------------------------------------------------------------------------------------\n",
              "Intercept                                                                                     190.3960   3.6041  52.8278 0.0000  183.2923  197.4997\n",
              "C(dataParallelism)[T.2]                                                                       -91.6511   5.0970 -17.9816 0.0000 -101.6973  -81.6050\n",
              "C(dataParallelism)[T.3]                                                                      -122.9012   5.0970 -24.1127 0.0000 -132.9473 -112.8551\n",
              "C(dataParallelism)[T.4]                                                                      -139.1635   5.0970 -27.3033 0.0000 -149.2097 -129.1174\n",
              "C(executorCore)[T.1125m]                                                                       -0.1873   5.0970  -0.0368 0.9707  -10.2334    9.8588\n",
              "C(executorCore)[T.1250m]                                                                      -40.4528   5.0970  -7.9367 0.0000  -50.4989  -30.4067\n",
              "C(learningRate)[T.0.02]                                                                         1.9658   5.0970   0.3857 0.7001   -8.0804   12.0119\n",
              "C(learningRate)[T.0.04]                                                                         7.3317   5.0970   1.4384 0.1518   -2.7145   17.3778\n",
              "C(batchSize)[T.256]                                                                            10.6805   5.0970   2.0955 0.0373    0.6344   20.7266\n",
              "C(batchSize)[T.512]                                                                            -9.9802   5.0970  -1.9581 0.0515  -20.0263    0.0659\n",
              "C(dataParallelism)[T.2]:C(executorCore)[T.1125m]                                               -9.8445   7.2082  -1.3657 0.1734  -24.0518    4.3629\n",
              "C(dataParallelism)[T.3]:C(executorCore)[T.1125m]                                               -7.4200   7.2082  -1.0294 0.3045  -21.6273    6.7874\n",
              "C(dataParallelism)[T.4]:C(executorCore)[T.1125m]                                               -5.9476   7.2082  -0.8251 0.4102  -20.1549    8.2598\n",
              "C(dataParallelism)[T.2]:C(executorCore)[T.1250m]                                               20.5367   7.2082   2.8491 0.0048    6.3293   34.7441\n",
              "C(dataParallelism)[T.3]:C(executorCore)[T.1250m]                                               27.0238   7.2082   3.7491 0.0002   12.8165   41.2312\n",
              "C(dataParallelism)[T.4]:C(executorCore)[T.1250m]                                               29.5503   7.2082   4.0996 0.0001   15.3430   43.7577\n",
              "C(dataParallelism)[T.2]:C(learningRate)[T.0.02]                                                -2.2940   7.2082  -0.3183 0.7506  -16.5014   11.9134\n",
              "C(dataParallelism)[T.3]:C(learningRate)[T.0.02]                                                -2.5894   7.2082  -0.3592 0.7198  -16.7968   11.6180\n",
              "C(dataParallelism)[T.4]:C(learningRate)[T.0.02]                                                -2.6743   7.2082  -0.3710 0.7110  -16.8816   11.5331\n",
              "C(dataParallelism)[T.2]:C(learningRate)[T.0.04]                                                -9.3034   7.2082  -1.2907 0.1982  -23.5108    4.9039\n",
              "C(dataParallelism)[T.3]:C(learningRate)[T.0.04]                                                -7.7675   7.2082  -1.0776 0.2824  -21.9748    6.4399\n",
              "C(dataParallelism)[T.4]:C(learningRate)[T.0.04]                                                -8.0442   7.2082  -1.1160 0.2657  -22.2515    6.1632\n",
              "C(executorCore)[T.1125m]:C(learningRate)[T.0.02]                                              -22.3335   7.2082  -3.0984 0.0022  -36.5408   -8.1261\n",
              "C(executorCore)[T.1250m]:C(learningRate)[T.0.02]                                               -0.2494   7.2082  -0.0346 0.9724  -14.4567   13.9580\n",
              "C(executorCore)[T.1125m]:C(learningRate)[T.0.04]                                              -26.0600   7.2082  -3.6153 0.0004  -40.2673  -11.8526\n",
              "C(executorCore)[T.1250m]:C(learningRate)[T.0.04]                                               -5.4290   7.2082  -0.7532 0.4522  -19.6364    8.7784\n",
              "C(dataParallelism)[T.2]:C(batchSize)[T.256]                                                   -16.9810   7.2082  -2.3558 0.0194  -31.1884   -2.7736\n",
              "C(dataParallelism)[T.3]:C(batchSize)[T.256]                                                   -16.3981   7.2082  -2.2749 0.0239  -30.6055   -2.1907\n",
              "C(dataParallelism)[T.4]:C(batchSize)[T.256]                                                   -14.2116   7.2082  -1.9716 0.0499  -28.4190   -0.0043\n",
              "C(dataParallelism)[T.2]:C(batchSize)[T.512]                                                     7.6012   7.2082   1.0545 0.2928   -6.6062   21.8086\n",
              "C(dataParallelism)[T.3]:C(batchSize)[T.512]                                                     4.8763   7.2082   0.6765 0.4994   -9.3310   19.0837\n",
              "C(dataParallelism)[T.4]:C(batchSize)[T.512]                                                     6.9196   7.2082   0.9600 0.3381   -7.2877   21.1270\n",
              "C(executorCore)[T.1125m]:C(batchSize)[T.256]                                                  -42.1687   7.2082  -5.8501 0.0000  -56.3761  -27.9614\n",
              "C(executorCore)[T.1250m]:C(batchSize)[T.256]                                                  -17.5267   7.2082  -2.4315 0.0159  -31.7341   -3.3194\n",
              "C(executorCore)[T.1125m]:C(batchSize)[T.512]                                                  -23.0689   7.2082  -3.2004 0.0016  -37.2763   -8.8615\n",
              "C(executorCore)[T.1250m]:C(batchSize)[T.512]                                                   -2.4383   7.2082  -0.3383 0.7355  -16.6456   11.7691\n",
              "C(learningRate)[T.0.02]:C(batchSize)[T.256]                                                    18.2771   7.2082   2.5356 0.0119    4.0697   32.4845\n",
              "C(learningRate)[T.0.04]:C(batchSize)[T.256]                                                   -26.8207   7.2082  -3.7209 0.0003  -41.0281  -12.6133\n",
              "C(learningRate)[T.0.02]:C(batchSize)[T.512]                                                     0.9550   7.2082   0.1325 0.8947  -13.2524   15.1623\n",
              "C(learningRate)[T.0.04]:C(batchSize)[T.512]                                                    -6.8785   7.2082  -0.9543 0.3410  -21.0859    7.3288\n",
              "C(dataParallelism)[T.2]:C(executorCore)[T.1125m]:C(learningRate)[T.0.02]                       20.4793  10.1939   2.0090 0.0458    0.3871   40.5716\n",
              "C(dataParallelism)[T.3]:C(executorCore)[T.1125m]:C(learningRate)[T.0.02]                       22.6703  10.1939   2.2239 0.0272    2.5780   42.7625\n",
              "C(dataParallelism)[T.4]:C(executorCore)[T.1125m]:C(learningRate)[T.0.02]                       22.9939  10.1939   2.2557 0.0251    2.9016   43.0862\n",
              "C(dataParallelism)[T.2]:C(executorCore)[T.1250m]:C(learningRate)[T.0.02]                        1.2621  10.1939   0.1238 0.9016  -18.8302   21.3544\n",
              "C(dataParallelism)[T.3]:C(executorCore)[T.1250m]:C(learningRate)[T.0.02]                       -0.0691  10.1939  -0.0068 0.9946  -20.1614   20.0231\n",
              "C(dataParallelism)[T.4]:C(executorCore)[T.1250m]:C(learningRate)[T.0.02]                        1.1096  10.1939   0.1089 0.9134  -18.9826   21.2019\n",
              "C(dataParallelism)[T.2]:C(executorCore)[T.1125m]:C(learningRate)[T.0.04]                       23.8805  10.1939   2.3426 0.0201    3.7883   43.9728\n",
              "C(dataParallelism)[T.3]:C(executorCore)[T.1125m]:C(learningRate)[T.0.04]                       26.4439  10.1939   2.5941 0.0101    6.3516   46.5361\n",
              "C(dataParallelism)[T.4]:C(executorCore)[T.1125m]:C(learningRate)[T.0.04]                       25.7262  10.1939   2.5237 0.0123    5.6339   45.8184\n",
              "C(dataParallelism)[T.2]:C(executorCore)[T.1250m]:C(learningRate)[T.0.04]                        6.8278  10.1939   0.6698 0.5037  -13.2645   26.9200\n",
              "C(dataParallelism)[T.3]:C(executorCore)[T.1250m]:C(learningRate)[T.0.04]                        5.2900  10.1939   0.5189 0.6043  -14.8023   25.3822\n",
              "C(dataParallelism)[T.4]:C(executorCore)[T.1250m]:C(learningRate)[T.0.04]                        5.6134  10.1939   0.5507 0.5824  -14.4789   25.7056\n",
              "C(dataParallelism)[T.2]:C(executorCore)[T.1125m]:C(batchSize)[T.256]                           41.5182  10.1939   4.0729 0.0001   21.4260   61.6105\n",
              "C(dataParallelism)[T.3]:C(executorCore)[T.1125m]:C(batchSize)[T.256]                           43.6565  10.1939   4.2826 0.0000   23.5642   63.7487\n",
              "C(dataParallelism)[T.4]:C(executorCore)[T.1125m]:C(batchSize)[T.256]                           43.3987  10.1939   4.2573 0.0000   23.3064   63.4909\n",
              "C(dataParallelism)[T.2]:C(executorCore)[T.1250m]:C(batchSize)[T.256]                           19.5677  10.1939   1.9195 0.0562   -0.5246   39.6599\n",
              "C(dataParallelism)[T.3]:C(executorCore)[T.1250m]:C(batchSize)[T.256]                           19.2621  10.1939   1.8896 0.0602   -0.8302   39.3544\n",
              "C(dataParallelism)[T.4]:C(executorCore)[T.1250m]:C(batchSize)[T.256]                           19.2065  10.1939   1.8841 0.0609   -0.8857   39.2988\n",
              "C(dataParallelism)[T.2]:C(executorCore)[T.1125m]:C(batchSize)[T.512]                           19.8741  10.1939   1.9496 0.0525   -0.2182   39.9663\n",
              "C(dataParallelism)[T.3]:C(executorCore)[T.1125m]:C(batchSize)[T.512]                           23.7497  10.1939   2.3298 0.0207    3.6575   43.8420\n",
              "C(dataParallelism)[T.4]:C(executorCore)[T.1125m]:C(batchSize)[T.512]                           24.0702  10.1939   2.3612 0.0191    3.9779   44.1625\n",
              "C(dataParallelism)[T.2]:C(executorCore)[T.1250m]:C(batchSize)[T.512]                            2.0158  10.1939   0.1978 0.8434  -18.0764   22.1081\n",
              "C(dataParallelism)[T.3]:C(executorCore)[T.1250m]:C(batchSize)[T.512]                            2.4643  10.1939   0.2417 0.8092  -17.6280   22.5565\n",
              "C(dataParallelism)[T.4]:C(executorCore)[T.1250m]:C(batchSize)[T.512]                            2.3870  10.1939   0.2342 0.8151  -17.7053   22.4792\n",
              "C(dataParallelism)[T.2]:C(learningRate)[T.0.02]:C(batchSize)[T.256]                           -17.5484  10.1939  -1.7215 0.0866  -37.6407    2.5438\n",
              "C(dataParallelism)[T.3]:C(learningRate)[T.0.02]:C(batchSize)[T.256]                           -17.7499  10.1939  -1.7412 0.0831  -37.8422    2.3423\n",
              "C(dataParallelism)[T.4]:C(learningRate)[T.0.02]:C(batchSize)[T.256]                           -17.4151  10.1939  -1.7084 0.0890  -37.5073    2.6772\n",
              "C(dataParallelism)[T.2]:C(learningRate)[T.0.04]:C(batchSize)[T.256]                            28.3746  10.1939   2.7835 0.0059    8.2823   48.4668\n",
              "C(dataParallelism)[T.3]:C(learningRate)[T.0.04]:C(batchSize)[T.256]                            27.8231  10.1939   2.7294 0.0069    7.7308   47.9153\n",
              "C(dataParallelism)[T.4]:C(learningRate)[T.0.04]:C(batchSize)[T.256]                            27.0751  10.1939   2.6560 0.0085    6.9829   47.1674\n",
              "C(dataParallelism)[T.2]:C(learningRate)[T.0.02]:C(batchSize)[T.512]                            -3.5793  10.1939  -0.3511 0.7258  -23.6716   16.5129\n",
              "C(dataParallelism)[T.3]:C(learningRate)[T.0.02]:C(batchSize)[T.512]                            -0.2215  10.1939  -0.0217 0.9827  -20.3138   19.8707\n",
              "C(dataParallelism)[T.4]:C(learningRate)[T.0.02]:C(batchSize)[T.512]                            -1.1041  10.1939  -0.1083 0.9138  -21.1964   18.9881\n",
              "C(dataParallelism)[T.2]:C(learningRate)[T.0.04]:C(batchSize)[T.512]                             6.0476  10.1939   0.5933 0.5536  -14.0446   26.1399\n",
              "C(dataParallelism)[T.3]:C(learningRate)[T.0.04]:C(batchSize)[T.512]                             5.9779  10.1939   0.5864 0.5582  -14.1143   26.0702\n",
              "C(dataParallelism)[T.4]:C(learningRate)[T.0.04]:C(batchSize)[T.512]                             7.2524  10.1939   0.7114 0.4776  -12.8398   27.3447\n",
              "C(executorCore)[T.1125m]:C(learningRate)[T.0.02]:C(batchSize)[T.256]                            4.9172  10.1939   0.4824 0.6300  -15.1751   25.0095\n",
              "C(executorCore)[T.1250m]:C(learningRate)[T.0.02]:C(batchSize)[T.256]                          -21.2436  10.1939  -2.0840 0.0383  -41.3359   -1.1514\n",
              "C(executorCore)[T.1125m]:C(learningRate)[T.0.04]:C(batchSize)[T.256]                           44.4874  10.1939   4.3641 0.0000   24.3952   64.5797\n",
              "C(executorCore)[T.1250m]:C(learningRate)[T.0.04]:C(batchSize)[T.256]                           23.1258  10.1939   2.2686 0.0243    3.0335   43.2180\n",
              "C(executorCore)[T.1125m]:C(learningRate)[T.0.02]:C(batchSize)[T.512]                           15.4057  10.1939   1.5113 0.1322   -4.6866   35.4979\n",
              "C(executorCore)[T.1250m]:C(learningRate)[T.0.02]:C(batchSize)[T.512]                            7.3509  10.1939   0.7211 0.4716  -12.7413   27.4432\n",
              "C(executorCore)[T.1125m]:C(learningRate)[T.0.04]:C(batchSize)[T.512]                           26.2987  10.1939   2.5798 0.0105    6.2064   46.3909\n",
              "C(executorCore)[T.1250m]:C(learningRate)[T.0.04]:C(batchSize)[T.512]                            7.6522  10.1939   0.7507 0.4537  -12.4401   27.7444\n",
              "C(dataParallelism)[T.2]:C(executorCore)[T.1125m]:C(learningRate)[T.0.02]:C(batchSize)[T.256]   -2.5832  14.4164  -0.1792 0.8580  -30.9979   25.8316\n",
              "C(dataParallelism)[T.3]:C(executorCore)[T.1125m]:C(learningRate)[T.0.02]:C(batchSize)[T.256]   -5.4927  14.4164  -0.3810 0.7036  -33.9075   22.9220\n",
              "C(dataParallelism)[T.4]:C(executorCore)[T.1125m]:C(learningRate)[T.0.02]:C(batchSize)[T.256]   -5.6623  14.4164  -0.3928 0.6949  -34.0770   22.7525\n",
              "C(dataParallelism)[T.2]:C(executorCore)[T.1250m]:C(learningRate)[T.0.02]:C(batchSize)[T.256]   19.5429  14.4164   1.3556 0.1766   -8.8718   47.9576\n",
              "C(dataParallelism)[T.3]:C(executorCore)[T.1250m]:C(learningRate)[T.0.02]:C(batchSize)[T.256]   21.0466  14.4164   1.4599 0.1458   -7.3681   49.4614\n",
              "C(dataParallelism)[T.4]:C(executorCore)[T.1250m]:C(learningRate)[T.0.02]:C(batchSize)[T.256]   19.6535  14.4164   1.3633 0.1742   -8.7612   48.0683\n",
              "C(dataParallelism)[T.2]:C(executorCore)[T.1125m]:C(learningRate)[T.0.04]:C(batchSize)[T.256]  -42.9503  14.4164  -2.9793 0.0032  -71.3650  -14.5356\n",
              "C(dataParallelism)[T.3]:C(executorCore)[T.1125m]:C(learningRate)[T.0.04]:C(batchSize)[T.256]  -46.9889  14.4164  -3.2594 0.0013  -75.4036  -18.5741\n",
              "C(dataParallelism)[T.4]:C(executorCore)[T.1125m]:C(learningRate)[T.0.04]:C(batchSize)[T.256]  -44.8811  14.4164  -3.1132 0.0021  -73.2959  -16.4664\n",
              "C(dataParallelism)[T.2]:C(executorCore)[T.1250m]:C(learningRate)[T.0.04]:C(batchSize)[T.256]  -26.1207  14.4164  -1.8119 0.0714  -54.5355    2.2940\n",
              "C(dataParallelism)[T.3]:C(executorCore)[T.1250m]:C(learningRate)[T.0.04]:C(batchSize)[T.256]  -25.2945  14.4164  -1.7546 0.0808  -53.7092    3.1203\n",
              "C(dataParallelism)[T.4]:C(executorCore)[T.1250m]:C(learningRate)[T.0.04]:C(batchSize)[T.256]  -22.8052  14.4164  -1.5819 0.1151  -51.2199    5.6096\n",
              "C(dataParallelism)[T.2]:C(executorCore)[T.1125m]:C(learningRate)[T.0.02]:C(batchSize)[T.512]  -12.2765  14.4164  -0.8516 0.3954  -40.6912   16.1382\n",
              "C(dataParallelism)[T.3]:C(executorCore)[T.1125m]:C(learningRate)[T.0.02]:C(batchSize)[T.512]  -16.6258  14.4164  -1.1533 0.2501  -45.0406   11.7889\n",
              "C(dataParallelism)[T.4]:C(executorCore)[T.1125m]:C(learningRate)[T.0.02]:C(batchSize)[T.512]  -16.2048  14.4164  -1.1241 0.2622  -44.6195   12.2099\n",
              "C(dataParallelism)[T.2]:C(executorCore)[T.1250m]:C(learningRate)[T.0.02]:C(batchSize)[T.512]   -5.5210  14.4164  -0.3830 0.7021  -33.9358   22.8937\n",
              "C(dataParallelism)[T.3]:C(executorCore)[T.1250m]:C(learningRate)[T.0.02]:C(batchSize)[T.512]   -6.4614  14.4164  -0.4482 0.6545  -34.8762   21.9533\n",
              "C(dataParallelism)[T.4]:C(executorCore)[T.1250m]:C(learningRate)[T.0.02]:C(batchSize)[T.512]   -6.3362  14.4164  -0.4395 0.6607  -34.7509   22.0786\n",
              "C(dataParallelism)[T.2]:C(executorCore)[T.1125m]:C(learningRate)[T.0.04]:C(batchSize)[T.512]  -21.2484  14.4164  -1.4739 0.1420  -49.6631    7.1663\n",
              "C(dataParallelism)[T.3]:C(executorCore)[T.1125m]:C(learningRate)[T.0.04]:C(batchSize)[T.512]  -26.0530  14.4164  -1.8072 0.0721  -54.4677    2.3618\n",
              "C(dataParallelism)[T.4]:C(executorCore)[T.1125m]:C(learningRate)[T.0.04]:C(batchSize)[T.512]  -27.2648  14.4164  -1.8912 0.0599  -55.6795    1.1500\n",
              "C(dataParallelism)[T.2]:C(executorCore)[T.1250m]:C(learningRate)[T.0.04]:C(batchSize)[T.512]   -8.7060  14.4164  -0.6039 0.5465  -37.1207   19.7088\n",
              "C(dataParallelism)[T.3]:C(executorCore)[T.1250m]:C(learningRate)[T.0.04]:C(batchSize)[T.512]   -6.7103  14.4164  -0.4655 0.6421  -35.1251   21.7044\n",
              "C(dataParallelism)[T.4]:C(executorCore)[T.1250m]:C(learningRate)[T.0.04]:C(batchSize)[T.512]   -6.2773  14.4164  -0.4354 0.6637  -34.6921   22.1374\n",
              "---------------------------------------------------------------------------------------------------------------------------------------------------\n",
              "Omnibus:                                        149.983                                 Durbin-Watson:                                    2.771    \n",
              "Prob(Omnibus):                                  0.000                                   Jarque-Bera (JB):                                 14201.865\n",
              "Skew:                                           0.891                                   Prob(JB):                                         0.000    \n",
              "Kurtosis:                                       35.385                                  Condition No.:                                    249      \n",
              "===================================================================================================================================================\n",
              "\n",
              "\"\"\""
            ]
          },
          "metadata": {},
          "execution_count": 25
        }
      ]
    },
    {
      "cell_type": "code",
      "metadata": {
        "colab": {
          "base_uri": "https://localhost:8080/"
        },
        "id": "mrYKzHJVP4bO",
        "outputId": "1221bd08-0f8a-4e3f-9e4c-be2bd3c8984f"
      },
      "source": [
        "# Anova analysis of the full factorial design\n",
        "anova_table_full_fact_2way = sm.stats.anova_lm(model_full_fact, typ= 2)\n",
        "\n",
        "# Printing the factors that are statistically relevant\n",
        "for i in range(1, len(anova_table_full_fact_2way)):\n",
        "  if anova_table_full_fact_2way[\"PR(>F)\"][i] < 0.05:\n",
        "    print(anova_table_full_fact_2way.iloc[i])"
      ],
      "execution_count": 26,
      "outputs": [
        {
          "output_type": "stream",
          "name": "stdout",
          "text": [
            "sum_sq    2.702544e+04\n",
            "df        2.000000e+00\n",
            "F         3.467613e+02\n",
            "PR(>F)    3.708102e-68\n",
            "Name: C(executorCore), dtype: float64\n",
            "sum_sq    2.330395e+03\n",
            "df        2.000000e+00\n",
            "F         2.990111e+01\n",
            "PR(>F)    3.439107e-12\n",
            "Name: C(batchSize), dtype: float64\n",
            "sum_sq    1.187011e+04\n",
            "df        6.000000e+00\n",
            "F         5.076814e+01\n",
            "PR(>F)    1.136732e-38\n",
            "Name: C(dataParallelism):C(executorCore), dtype: float64\n",
            "sum_sq    1296.053736\n",
            "df           6.000000\n",
            "F            5.543188\n",
            "PR(>F)       0.000023\n",
            "Name: C(dataParallelism):C(batchSize), dtype: float64\n",
            "sum_sq    416.266389\n",
            "df          4.000000\n",
            "F           2.670541\n",
            "PR(>F)      0.033152\n",
            "Name: C(executorCore):C(batchSize), dtype: float64\n",
            "sum_sq    1504.925656\n",
            "df          12.000000\n",
            "F            3.218264\n",
            "PR(>F)       0.000286\n",
            "Name: C(dataParallelism):C(executorCore):C(batchSize), dtype: float64\n"
          ]
        }
      ]
    },
    {
      "cell_type": "code",
      "metadata": {
        "colab": {
          "base_uri": "https://localhost:8080/"
        },
        "id": "Un5e3ImdQQBy",
        "outputId": "859cd1f8-5df6-4396-9beb-23ecaf1af8fa"
      },
      "source": [
        "print(f\"Overall model F({model_full_fact.df_model: .0f},{model_full_fact.df_resid: .0f}) = {model_full_fact.fvalue: .3f}, p = {model_full_fact.f_pvalue: .4f}\")"
      ],
      "execution_count": 27,
      "outputs": [
        {
          "output_type": "stream",
          "name": "stdout",
          "text": [
            "Overall model F( 107, 216) =  190.350, p =  0.0000\n"
          ]
        }
      ]
    },
    {
      "cell_type": "code",
      "metadata": {
        "colab": {
          "base_uri": "https://localhost:8080/"
        },
        "id": "wUomFAidQTuc",
        "outputId": "f28e9d12-c301-4d2b-c690-68da700b18e9"
      },
      "source": [
        "# Coefficients of the factors\n",
        "model_full_fact.params"
      ],
      "execution_count": 28,
      "outputs": [
        {
          "output_type": "execute_result",
          "data": {
            "text/plain": [
              "Intercept                                                                                       190.396033\n",
              "C(dataParallelism)[T.2]                                                                         -91.651129\n",
              "C(dataParallelism)[T.3]                                                                        -122.901221\n",
              "C(dataParallelism)[T.4]                                                                        -139.163536\n",
              "C(executorCore)[T.1125m]                                                                         -0.187318\n",
              "                                                                                                   ...    \n",
              "C(dataParallelism)[T.3]:C(executorCore)[T.1125m]:C(learningRate)[T.0.04]:C(batchSize)[T.512]    -26.052982\n",
              "C(dataParallelism)[T.4]:C(executorCore)[T.1125m]:C(learningRate)[T.0.04]:C(batchSize)[T.512]    -27.264758\n",
              "C(dataParallelism)[T.2]:C(executorCore)[T.1250m]:C(learningRate)[T.0.04]:C(batchSize)[T.512]     -8.705960\n",
              "C(dataParallelism)[T.3]:C(executorCore)[T.1250m]:C(learningRate)[T.0.04]:C(batchSize)[T.512]     -6.710312\n",
              "C(dataParallelism)[T.4]:C(executorCore)[T.1250m]:C(learningRate)[T.0.04]:C(batchSize)[T.512]     -6.277333\n",
              "Length: 108, dtype: float64"
            ]
          },
          "metadata": {},
          "execution_count": 28
        }
      ]
    },
    {
      "cell_type": "code",
      "metadata": {
        "colab": {
          "base_uri": "https://localhost:8080/"
        },
        "id": "E-1I5jz8QhbX",
        "outputId": "d6053490-0dbb-41dc-c362-c9682541f2e2"
      },
      "source": [
        "# T values for each factor\n",
        "model_full_fact.tvalues"
      ],
      "execution_count": 29,
      "outputs": [
        {
          "output_type": "execute_result",
          "data": {
            "text/plain": [
              "Intercept                                                                                       52.827791\n",
              "C(dataParallelism)[T.2]                                                                        -17.981560\n",
              "C(dataParallelism)[T.3]                                                                        -24.112695\n",
              "C(dataParallelism)[T.4]                                                                        -27.303292\n",
              "C(executorCore)[T.1125m]                                                                        -0.036751\n",
              "                                                                                                  ...    \n",
              "C(dataParallelism)[T.3]:C(executorCore)[T.1125m]:C(learningRate)[T.0.04]:C(batchSize)[T.512]    -1.807182\n",
              "C(dataParallelism)[T.4]:C(executorCore)[T.1125m]:C(learningRate)[T.0.04]:C(batchSize)[T.512]    -1.891238\n",
              "C(dataParallelism)[T.2]:C(executorCore)[T.1250m]:C(learningRate)[T.0.04]:C(batchSize)[T.512]    -0.603895\n",
              "C(dataParallelism)[T.3]:C(executorCore)[T.1250m]:C(learningRate)[T.0.04]:C(batchSize)[T.512]    -0.465465\n",
              "C(dataParallelism)[T.4]:C(executorCore)[T.1250m]:C(learningRate)[T.0.04]:C(batchSize)[T.512]    -0.435431\n",
              "Length: 108, dtype: float64"
            ]
          },
          "metadata": {},
          "execution_count": 29
        }
      ]
    },
    {
      "cell_type": "code",
      "metadata": {
        "colab": {
          "base_uri": "https://localhost:8080/"
        },
        "id": "jY8Gj0nmQrwG",
        "outputId": "e62b7703-8ba2-4d0f-a841-8d451c534e9e"
      },
      "source": [
        "# P values for each factor\n",
        "model_full_fact.pvalues"
      ],
      "execution_count": 30,
      "outputs": [
        {
          "output_type": "execute_result",
          "data": {
            "text/plain": [
              "Intercept                                                                                       1.723223e-125\n",
              "C(dataParallelism)[T.2]                                                                          8.397236e-45\n",
              "C(dataParallelism)[T.3]                                                                          3.473333e-63\n",
              "C(dataParallelism)[T.4]                                                                          5.660385e-72\n",
              "C(executorCore)[T.1125m]                                                                         9.707176e-01\n",
              "                                                                                                    ...      \n",
              "C(dataParallelism)[T.3]:C(executorCore)[T.1125m]:C(learningRate)[T.0.04]:C(batchSize)[T.512]     7.212525e-02\n",
              "C(dataParallelism)[T.4]:C(executorCore)[T.1125m]:C(learningRate)[T.0.04]:C(batchSize)[T.512]     5.993077e-02\n",
              "C(dataParallelism)[T.2]:C(executorCore)[T.1250m]:C(learningRate)[T.0.04]:C(batchSize)[T.512]     5.465474e-01\n",
              "C(dataParallelism)[T.3]:C(executorCore)[T.1250m]:C(learningRate)[T.0.04]:C(batchSize)[T.512]     6.420672e-01\n",
              "C(dataParallelism)[T.4]:C(executorCore)[T.1250m]:C(learningRate)[T.0.04]:C(batchSize)[T.512]     6.636841e-01\n",
              "Length: 108, dtype: float64"
            ]
          },
          "metadata": {},
          "execution_count": 30
        }
      ]
    },
    {
      "cell_type": "code",
      "metadata": {
        "colab": {
          "base_uri": "https://localhost:8080/"
        },
        "id": "mflO4W44Qa1W",
        "outputId": "7111c3f0-a86b-4ab2-af25-8fe64c7cd545"
      },
      "source": [
        "print(mean_confidence_interval(df['runningTime']))"
      ],
      "execution_count": 31,
      "outputs": [
        {
          "output_type": "stream",
          "name": "stdout",
          "text": [
            "(88.11535791335282, 82.66883167428719, 93.56188415241846)\n"
          ]
        }
      ]
    },
    {
      "cell_type": "code",
      "metadata": {
        "colab": {
          "base_uri": "https://localhost:8080/"
        },
        "id": "pg23hYN5Qevk",
        "outputId": "09fbb5b9-efae-4626-9459-dd38a93b8f33"
      },
      "source": [
        "# eta_squared - amount of variance accounted for in the sample\n",
        "# omega_squared - amount of variance accounted for in the population\n",
        "eta_squared(anova_table_full_fact_2way)\n",
        "omega_squared(anova_table_full_fact_2way)\n",
        "print(anova_table_full_fact_2way.round(4))"
      ],
      "execution_count": 32,
      "outputs": [
        {
          "output_type": "stream",
          "name": "stdout",
          "text": [
            "                                                         sum_sq  ...  omega_sq\n",
            "C(dataParallelism)                                  745650.7547  ...    0.9294\n",
            "C(executorCore)                                      27025.4365  ...    0.0336\n",
            "C(learningRate)                                        176.7821  ...    0.0001\n",
            "C(batchSize)                                          2330.3949  ...    0.0028\n",
            "C(dataParallelism):C(executorCore)                   11870.1084  ...    0.0145\n",
            "C(dataParallelism):C(learningRate)                     180.0658  ...   -0.0001\n",
            "C(executorCore):C(learningRate)                        189.2438  ...    0.0000\n",
            "C(dataParallelism):C(batchSize)                       1296.0537  ...    0.0013\n",
            "C(executorCore):C(batchSize)                           416.2664  ...    0.0003\n",
            "C(learningRate):C(batchSize)                           235.7345  ...    0.0001\n",
            "C(dataParallelism):C(executorCore):C(learningRate)     562.0827  ...    0.0001\n",
            "C(dataParallelism):C(executorCore):C(batchSize)       1504.9257  ...    0.0013\n",
            "C(dataParallelism):C(learningRate):C(batchSize)        629.1231  ...    0.0002\n",
            "C(executorCore):C(learningRate):C(batchSize)           427.7197  ...    0.0001\n",
            "C(dataParallelism):C(executorCore):C(learningRa...    1190.5646  ...    0.0003\n",
            "Residual                                              8417.1661  ...       NaN\n",
            "\n",
            "[16 rows x 6 columns]\n"
          ]
        }
      ]
    },
    {
      "cell_type": "code",
      "metadata": {
        "colab": {
          "base_uri": "https://localhost:8080/",
          "height": 475
        },
        "id": "z-5t63dBRNHY",
        "outputId": "0252fe26-972f-4a66-8b62-66237f3e2065"
      },
      "source": [
        "# Plots for standard distribution from the model's residuals\n",
        "fig, ax = plt.subplots(1, 2, figsize=(12, 7))\n",
        "sns.histplot(model_full_fact.resid,kde=True, color ='blue',ax=ax[0])\n",
        "pg.qqplot(model_full_fact.resid, dist='norm', ax=ax[1])"
      ],
      "execution_count": 33,
      "outputs": [
        {
          "output_type": "execute_result",
          "data": {
            "text/plain": [
              "<matplotlib.axes._subplots.AxesSubplot at 0x7f782a0f42d0>"
            ]
          },
          "metadata": {},
          "execution_count": 33
        },
        {
          "output_type": "display_data",
          "data": {
            "image/png": "[encoded data removed]",
            "text/plain": [
              "<Figure size 864x504 with 2 Axes>"
            ]
          },
          "metadata": {
            "needs_background": "light"
          }
        }
      ]
    },
    {
      "cell_type": "code",
      "metadata": {
        "colab": {
          "base_uri": "https://localhost:8080/",
          "height": 296
        },
        "id": "0q0MR7jdRNJx",
        "outputId": "297f5d9f-d506-4d4f-fe86-57c65ee62e78"
      },
      "source": [
        "# Plot for the importance of data parallelism across running time\n",
        "sns.violinplot(x=\"dataParallelism\", y=\"runningTime\", data=df)"
      ],
      "execution_count": 34,
      "outputs": [
        {
          "output_type": "execute_result",
          "data": {
            "text/plain": [
              "<matplotlib.axes._subplots.AxesSubplot at 0x7f7829e5c090>"
            ]
          },
          "metadata": {},
          "execution_count": 34
        },
        {
          "output_type": "display_data",
          "data": {
            "image/png": "[encoded data removed]",
            "text/plain": [
              "<Figure size 432x288 with 1 Axes>"
            ]
          },
          "metadata": {
            "needs_background": "light"
          }
        }
      ]
    },
    {
      "cell_type": "code",
      "metadata": {
        "colab": {
          "base_uri": "https://localhost:8080/",
          "height": 300
        },
        "id": "q4-sJJC3RexN",
        "outputId": "0c2fbfa8-7b92-4f82-f2c2-ab3a7a18f45c"
      },
      "source": [
        "# Plot for the influence of the running time by data parallelism and batch size\n",
        "g = sns.barplot(x=\"dataParallelism\", y=\"accuracy\",hue=\"batchSize\", data=df)\n",
        "g.set_ylim(82, 90)"
      ],
      "execution_count": 35,
      "outputs": [
        {
          "output_type": "execute_result",
          "data": {
            "text/plain": [
              "(82.0, 90.0)"
            ]
          },
          "metadata": {},
          "execution_count": 35
        },
        {
          "output_type": "display_data",
          "data": {
            "image/png": "[encoded data removed]",
            "text/plain": [
              "<Figure size 432x288 with 1 Axes>"
            ]
          },
          "metadata": {
            "needs_background": "light"
          }
        }
      ]
    },
    {
      "cell_type": "markdown",
      "metadata": {
        "id": "mW25zHIKSAkJ"
      },
      "source": [
        "*Defining the datasets using the full factorial design values*"
      ]
    },
    {
      "cell_type": "code",
      "metadata": {
        "colab": {
          "base_uri": "https://localhost:8080/"
        },
        "id": "WHt9X-SRSLdh",
        "outputId": "52255e86-3fe3-4848-f555-0e6d48d52db4"
      },
      "source": [
        "train_df = df[['dataParallelism','executorCore','learningRate','batchSize']]\n",
        "labels_time = df['runningTime']\n",
        "labels_acc = df['accuracy']\n",
        "\n",
        "## Convert Categorical column to numeric\n",
        "train_df['executorCore'] = pd.Categorical(train_df['executorCore'])\n",
        "train_df['executorCore'] = train_df.executorCore.cat.codes\n",
        "\n",
        "x_train, x_test, y_train_acc, y_test_acc = train_test_split(train_df, labels_acc, test_size=0.33, random_state = 42)\n",
        "x_train, x_test, y_train_time, y_test_time = train_test_split(train_df, labels_time, test_size=0.33, random_state = 42)"
      ],
      "execution_count": 80,
      "outputs": [
        {
          "output_type": "stream",
          "name": "stderr",
          "text": [
            "/usr/local/lib/python3.7/dist-packages/ipykernel_launcher.py:6: SettingWithCopyWarning: \n",
            "A value is trying to be set on a copy of a slice from a DataFrame.\n",
            "Try using .loc[row_indexer,col_indexer] = value instead\n",
            "\n",
            "See the caveats in the documentation: https://pandas.pydata.org/pandas-docs/stable/user_guide/indexing.html#returning-a-view-versus-a-copy\n",
            "  \n",
            "/usr/local/lib/python3.7/dist-packages/ipykernel_launcher.py:7: SettingWithCopyWarning: \n",
            "A value is trying to be set on a copy of a slice from a DataFrame.\n",
            "Try using .loc[row_indexer,col_indexer] = value instead\n",
            "\n",
            "See the caveats in the documentation: https://pandas.pydata.org/pandas-docs/stable/user_guide/indexing.html#returning-a-view-versus-a-copy\n",
            "  import sys\n"
          ]
        }
      ]
    },
    {
      "cell_type": "code",
      "metadata": {
        "id": "UWwxD9xKSfuE"
      },
      "source": [
        "# Defining the training data as a labeled data frame \n",
        "train_data = pd.DataFrame(data=x_train, columns=['dataParallelism', 'executorCore', 'learningRate', 'batchSize'])\n",
        "train_data['runningTime'] = df['runningTime']\n",
        "train_data['accuracy'] = df['accuracy']\n",
        "\n",
        "# Fitting the training data into the anova model - running time\n",
        "model_anova_time = ols('runningTime ~ dataParallelism*executorCore*learningRate*batchSize', train_data).fit()"
      ],
      "execution_count": 81,
      "outputs": []
    },
    {
      "cell_type": "code",
      "metadata": {
        "id": "EJAR-0zBS9Bn"
      },
      "source": [
        "test_data = pd.DataFrame(data=x_test, columns=['dataParallelism', 'executorCore', 'learningRate', 'batchSize'])\n",
        "\n",
        "# Prediction on the test data\n",
        "y_pred_time_anova = model_anova_time.predict(test_data)"
      ],
      "execution_count": 82,
      "outputs": []
    },
    {
      "cell_type": "code",
      "metadata": {
        "colab": {
          "base_uri": "https://localhost:8080/"
        },
        "id": "dKJeKuGUTDUv",
        "outputId": "ffdb0aa3-f5c3-4903-fc91-5667710e8bc7"
      },
      "source": [
        "# Computing the metrics score\n",
        "mse = mean_squared_error(y_pred_time_anova, y_test_time)\n",
        "r2 = r2_score(y_pred_time_anova, y_test_time)\n",
        "\n",
        "print(f'Time: MSE = {mse}, R2: {r2}')"
      ],
      "execution_count": 83,
      "outputs": [
        {
          "output_type": "stream",
          "name": "stdout",
          "text": [
            "Time: MSE = 438.456011153327, R2: 0.7995643595217248\n"
          ]
        }
      ]
    },
    {
      "cell_type": "code",
      "metadata": {
        "id": "Pvv3nA1DTQHX"
      },
      "source": [
        "# Fitting the training data into the anova model - accuracy\n",
        "model_anova_accuracy = ols('accuracy ~ dataParallelism*executorCore*learningRate*batchSize', train_data).fit()\n",
        "\n",
        "y_pred_acc_anova = model_anova_accuracy.predict(test_data)"
      ],
      "execution_count": 44,
      "outputs": []
    },
    {
      "cell_type": "code",
      "metadata": {
        "colab": {
          "base_uri": "https://localhost:8080/"
        },
        "id": "j4VeSIqcTeFI",
        "outputId": "fa011cd5-8417-4b66-e33d-0a28811cb0da"
      },
      "source": [
        "# Metrics\n",
        "mse = mean_squared_error(y_pred_acc_anova, y_test_acc)\n",
        "r2 = r2_score(y_pred_acc_anova, y_test_acc)\n",
        "\n",
        "print(f'Time: MSE = {mse}, R2: {r2}')"
      ],
      "execution_count": 45,
      "outputs": [
        {
          "output_type": "stream",
          "name": "stdout",
          "text": [
            "Time: MSE = 0.7577646078746881, R2: 0.5187731789187406\n"
          ]
        }
      ]
    },
    {
      "cell_type": "markdown",
      "metadata": {
        "id": "SN6s_nOtT3J2"
      },
      "source": [
        "**Linear Regression**"
      ]
    },
    {
      "cell_type": "code",
      "metadata": {
        "colab": {
          "base_uri": "https://localhost:8080/"
        },
        "id": "WEWj-f7IT6L1",
        "outputId": "d541828a-8a4e-4144-bb8f-d417b8a3de85"
      },
      "source": [
        "# LR for predicting time\n",
        "lr_time = linear_model.LinearRegression().fit(x_train, y_train_time)\n",
        "\n",
        "y_lr_time = lr_time.predict(x_test)\n",
        "\n",
        "mse = mean_squared_error(y_test_time, y_lr_time)\n",
        "r2 = r2_score(y_test_time, y_lr_time)\n",
        "print(f'Time: MSE = {mse}, R2: {r2}')"
      ],
      "execution_count": 78,
      "outputs": [
        {
          "output_type": "stream",
          "name": "stdout",
          "text": [
            "Time: MSE = 461.83969532698285, R2: 0.8212482399681837\n"
          ]
        }
      ]
    },
    {
      "cell_type": "code",
      "metadata": {
        "colab": {
          "base_uri": "https://localhost:8080/"
        },
        "id": "pCza2_eEUUwq",
        "outputId": "b6c4a902-79e1-4aa8-c977-2d9bd730bc09"
      },
      "source": [
        "# LR for predicting accuracy\n",
        "lr_time = linear_model.LinearRegression().fit(x_train, y_train_acc)\n",
        "\n",
        "y_lr_time = lr_time.predict(x_test)\n",
        "\n",
        "mse = mean_squared_error(y_test_acc, y_lr_time)\n",
        "r2 = r2_score(y_test_acc, y_lr_time)\n",
        "print(f'Time: MSE = {mse}, R2: {r2}')"
      ],
      "execution_count": 79,
      "outputs": [
        {
          "output_type": "stream",
          "name": "stdout",
          "text": [
            "Time: MSE = 0.7439843790916915, R2: 0.6368128745737058\n"
          ]
        }
      ]
    },
    {
      "cell_type": "markdown",
      "metadata": {
        "id": "lOnk2aXkUvlm"
      },
      "source": [
        "**Random Forest**"
      ]
    },
    {
      "cell_type": "code",
      "metadata": {
        "id": "mwluABUuUytg"
      },
      "source": [
        "# Defining regressors \n",
        "reg_acc = ensemble.RandomForestRegressor(random_state=42)\n",
        "reg_time = ensemble.RandomForestRegressor(random_state=42)"
      ],
      "execution_count": 49,
      "outputs": []
    },
    {
      "cell_type": "code",
      "metadata": {
        "colab": {
          "base_uri": "https://localhost:8080/"
        },
        "id": "y26nv17YU39D",
        "outputId": "003fade6-cac4-4340-c94f-3b65f662e80f"
      },
      "source": [
        "params_rf = {\n",
        "    'n_estimators': [50, 100, 150, 200, 500, 1000],\n",
        "    'max_features': ['auto', 'log2', 'sqrt'],\n",
        "    'max_depth': range(4,6),\n",
        "    'criterion': ['mse', 'mae']\n",
        "    \n",
        "}\n",
        "\n",
        "scaler = StandardScaler()\n",
        "train_df = scaler.fit_transform(train_df)\n",
        "\n",
        "x_train, x_test, y_train_acc, y_test_acc = train_test_split(train_df, labels_acc, test_size=0.33, random_state = 42)\n",
        "x_train, x_test, y_train_time, y_test_time = train_test_split(train_df, labels_time, test_size=0.33, random_state = 42)\n",
        "\n",
        "# First cross validation\n",
        "print('Fitting the time...')\n",
        "cv_time = GridSearchCV(estimator=reg_time, param_grid=params_rf, n_jobs=8, cv=5, verbose=3)\n",
        "cv_time.fit(x_train, y_train_time)\n",
        "\n",
        "# Second cross val\n",
        "print('Fitting the accuracy')\n",
        "cv_acc = GridSearchCV(estimator=reg_acc, param_grid=params_rf, n_jobs=8, cv=5, verbose=3)\n",
        "cv_acc.fit(x_train, y_train_acc)"
      ],
      "execution_count": 55,
      "outputs": [
        {
          "output_type": "stream",
          "name": "stdout",
          "text": [
            "Fitting the time...\n",
            "Fitting 5 folds for each of 72 candidates, totalling 360 fits\n"
          ]
        },
        {
          "output_type": "stream",
          "name": "stderr",
          "text": [
            "[Parallel(n_jobs=8)]: Using backend LokyBackend with 8 concurrent workers.\n",
            "[Parallel(n_jobs=8)]: Done  16 tasks      | elapsed:    7.7s\n",
            "[Parallel(n_jobs=8)]: Done 112 tasks      | elapsed:   45.5s\n",
            "[Parallel(n_jobs=8)]: Done 272 tasks      | elapsed:  1.9min\n",
            "[Parallel(n_jobs=8)]: Done 360 out of 360 | elapsed:  2.7min finished\n"
          ]
        },
        {
          "output_type": "stream",
          "name": "stdout",
          "text": [
            "Fitting the accuracy\n",
            "Fitting 5 folds for each of 72 candidates, totalling 360 fits\n"
          ]
        },
        {
          "output_type": "stream",
          "name": "stderr",
          "text": [
            "[Parallel(n_jobs=8)]: Using backend LokyBackend with 8 concurrent workers.\n",
            "[Parallel(n_jobs=8)]: Done  16 tasks      | elapsed:    3.1s\n",
            "[Parallel(n_jobs=8)]: Done 112 tasks      | elapsed:   40.9s\n",
            "[Parallel(n_jobs=8)]: Done 272 tasks      | elapsed:  1.8min\n",
            "[Parallel(n_jobs=8)]: Done 360 out of 360 | elapsed:  2.6min finished\n"
          ]
        },
        {
          "output_type": "execute_result",
          "data": {
            "text/plain": [
              "GridSearchCV(cv=5, error_score=nan,\n",
              "             estimator=RandomForestRegressor(bootstrap=True, ccp_alpha=0.0,\n",
              "                                             criterion='mse', max_depth=None,\n",
              "                                             max_features='auto',\n",
              "                                             max_leaf_nodes=None,\n",
              "                                             max_samples=None,\n",
              "                                             min_impurity_decrease=0.0,\n",
              "                                             min_impurity_split=None,\n",
              "                                             min_samples_leaf=1,\n",
              "                                             min_samples_split=2,\n",
              "                                             min_weight_fraction_leaf=0.0,\n",
              "                                             n_estimators=100, n_jobs=None,\n",
              "                                             oob_score=False, random_state=42,\n",
              "                                             verbose=0, warm_start=False),\n",
              "             iid='deprecated', n_jobs=8,\n",
              "             param_grid={'criterion': ['mse', 'mae'], 'max_depth': range(4, 6),\n",
              "                         'max_features': ['auto', 'log2', 'sqrt'],\n",
              "                         'n_estimators': [50, 100, 150, 200, 500, 1000]},\n",
              "             pre_dispatch='2*n_jobs', refit=True, return_train_score=False,\n",
              "             scoring=None, verbose=3)"
            ]
          },
          "metadata": {},
          "execution_count": 55
        }
      ]
    },
    {
      "cell_type": "code",
      "metadata": {
        "colab": {
          "base_uri": "https://localhost:8080/"
        },
        "id": "1ZOl8xouU73Z",
        "outputId": "6ed0a7c7-c8a0-4f5e-a7f2-65d8cbf3738b"
      },
      "source": [
        "cv_time.best_params_"
      ],
      "execution_count": 56,
      "outputs": [
        {
          "output_type": "execute_result",
          "data": {
            "text/plain": [
              "{'criterion': 'mae',\n",
              " 'max_depth': 5,\n",
              " 'max_features': 'auto',\n",
              " 'n_estimators': 500}"
            ]
          },
          "metadata": {},
          "execution_count": 56
        }
      ]
    },
    {
      "cell_type": "code",
      "metadata": {
        "colab": {
          "base_uri": "https://localhost:8080/"
        },
        "id": "RMCtdt5LU-ME",
        "outputId": "020bb9f1-0d14-4318-a599-5dce22706ab4"
      },
      "source": [
        "cv_acc.best_params_"
      ],
      "execution_count": 57,
      "outputs": [
        {
          "output_type": "execute_result",
          "data": {
            "text/plain": [
              "{'criterion': 'mae',\n",
              " 'max_depth': 5,\n",
              " 'max_features': 'auto',\n",
              " 'n_estimators': 500}"
            ]
          },
          "metadata": {},
          "execution_count": 57
        }
      ]
    },
    {
      "cell_type": "code",
      "metadata": {
        "colab": {
          "base_uri": "https://localhost:8080/"
        },
        "id": "PFzFCAyWVBnS",
        "outputId": "c1c197a5-9207-47ca-cf53-6dee9a3efda2"
      },
      "source": [
        "# Fit on the time\n",
        "r_t = cv_time.best_estimator_.fit(x_train, y_train_time)\n",
        "\n",
        "# test the performance on the train and the test set\n",
        "y_pred = r_t.predict(x_test)\n",
        "\n",
        "err = mean_squared_error(y_pred, y_test_time)\n",
        "\n",
        "print('Mean Squared Error with the test set is for running time', err)"
      ],
      "execution_count": 58,
      "outputs": [
        {
          "output_type": "stream",
          "name": "stdout",
          "text": [
            "Mean Squared Error with the test set is for running time 87.38576775802747\n"
          ]
        }
      ]
    },
    {
      "cell_type": "code",
      "metadata": {
        "colab": {
          "base_uri": "https://localhost:8080/"
        },
        "id": "b_Yq3tgbVGR4",
        "outputId": "14a9dc88-69b2-4d2d-d66c-4e0cd1e85b10"
      },
      "source": [
        "# Fit on the acc\n",
        "r_acc = cv_acc.best_estimator_.fit(x_train, y_train_acc)\n",
        "\n",
        "# test the performance on the train and the test set\n",
        "y_pred = r_acc.predict(x_test)\n",
        "err = mean_squared_error(y_pred, y_test_acc)\n",
        "\n",
        "print('Mean Squared Error with the test set is for accuracy', err)"
      ],
      "execution_count": 59,
      "outputs": [
        {
          "output_type": "stream",
          "name": "stdout",
          "text": [
            "Mean Squared Error with the test set is for accuracy 0.3904939673899661\n"
          ]
        }
      ]
    },
    {
      "cell_type": "code",
      "metadata": {
        "id": "GkqNQXUsVMw_"
      },
      "source": [
        "# Fit the regressor for time with the best params\n",
        "r_t = ensemble.RandomForestRegressor(n_estimators=500, \n",
        "                            criterion='mae', \n",
        "                            max_features='auto', \n",
        "                            max_depth=5, \n",
        "                            random_state=42, n_jobs=6).fit(x_train, y_train_time)"
      ],
      "execution_count": 61,
      "outputs": []
    },
    {
      "cell_type": "code",
      "metadata": {
        "id": "N0ZsgNtxVP4q"
      },
      "source": [
        "# Fit the regressor for Accuracy with the best params\n",
        "r_acc = ensemble.RandomForestRegressor(n_estimators=500, \n",
        "                             criterion='mae', \n",
        "                             max_features='auto', \n",
        "                             max_depth=5, \n",
        "                             random_state=42, n_jobs=6).fit(x_train, y_train_acc)"
      ],
      "execution_count": 62,
      "outputs": []
    },
    {
      "cell_type": "code",
      "metadata": {
        "colab": {
          "base_uri": "https://localhost:8080/"
        },
        "id": "5OV12426VTbl",
        "outputId": "e671a599-fdf9-4871-f974-dfcceb2c2870"
      },
      "source": [
        "# Get the predictions from the models\n",
        "\n",
        "# 1) Get the performance from time\n",
        "y_pred_time = r_t.predict(x_test)\n",
        "\n",
        "mse_t = mean_squared_error(y_test_time, y_pred_time)\n",
        "r2_t = r2_score(y_test_time, y_pred_time)\n",
        "print(f'Time: MSE = {mse_t}, R2: {r2_t}')\n",
        "\n",
        "# 2) Get the performance for the accuracy\n",
        "y_pred_acc = r_acc.predict(x_test)\n",
        "\n",
        "mse_acc = mean_squared_error(y_test_acc, y_pred_acc)\n",
        "r2_acc = r2_score(y_test_acc, y_pred_acc)\n",
        "print(f'Accuracy: MSE = {mse_acc}, R2: {r2_acc}')"
      ],
      "execution_count": 63,
      "outputs": [
        {
          "output_type": "stream",
          "name": "stdout",
          "text": [
            "Time: MSE = 87.38576775802747, R2: 0.9661779618631098\n",
            "Accuracy: MSE = 0.3904939673899661, R2: 0.8093745171292204\n"
          ]
        }
      ]
    },
    {
      "cell_type": "code",
      "metadata": {
        "colab": {
          "base_uri": "https://localhost:8080/",
          "height": 628
        },
        "id": "zBkS7lE2VZG9",
        "outputId": "fef48c59-2e6f-4866-fd4b-bd536e60fe3b"
      },
      "source": [
        "# Print the predictions and the true values\n",
        "import matplotlib.pyplot as plt\n",
        "f, (ax1, ax2) = plt.subplots(2, figsize=(10, 10))\n",
        "\n",
        "ax1.scatter(x_test[:,3], y_test_time, label='True labels')\n",
        "ax1.errorbar(x_test[:,3], y_pred_time, yerr=y_test_time-y_pred_time, fmt='o', marker='^', c='r', label='Predicted values')\n",
        "\n",
        "ax1.set_xlabel('Normalized number of batch size', fontsize=17)\n",
        "ax1.set_ylabel('Response Time (s)', fontsize=17)\n",
        "\n",
        "ax2.scatter(x_test[:,3], y_test_acc,label='True labels')\n",
        "ax2.errorbar(x_test[:,3], y_pred_acc, yerr=y_test_acc-y_pred_acc, fmt='o', marker='^', c='r', label='Predicted values')\n",
        "\n",
        "ax2.set_xlabel('Normalized number of batch Size', fontsize=15)\n",
        "ax2.set_ylabel('Accuracy', fontsize=17)\n",
        "\n",
        "ax1.legend(fontsize=17)\n",
        "ax2.legend(fontsize=17)"
      ],
      "execution_count": 64,
      "outputs": [
        {
          "output_type": "execute_result",
          "data": {
            "text/plain": [
              "<matplotlib.legend.Legend at 0x7f78250188d0>"
            ]
          },
          "metadata": {},
          "execution_count": 64
        },
        {
          "output_type": "display_data",
          "data": {
            "image/png": "[encoded data removed]",
            "text/plain": [
              "<Figure size 720x720 with 2 Axes>"
            ]
          },
          "metadata": {
            "needs_background": "light"
          }
        }
      ]
    },
    {
      "cell_type": "code",
      "metadata": {
        "colab": {
          "base_uri": "https://localhost:8080/",
          "height": 581
        },
        "id": "EcIszoYBVbJA",
        "outputId": "7413b11a-644d-463e-c8e7-30913c8f26ee"
      },
      "source": [
        "# Plot the features' importance\n",
        "\n",
        "for f, imp in zip(['dataParallelism','executorCore','learningRate','batchSize'],r_t.feature_importances_ ):\n",
        "    print(f, imp)\n",
        "    \n",
        "f, (ax1, ax2) = plt.subplots(1,2, sharey=True, figsize=(10,7))\n",
        "ax1.bar(['dataParallelism','executorCore','learningRate','batchSize'], r_t.feature_importances_)\n",
        "ax2.bar(['dataParallelism','executorCore','learningRate','batchSize'], r_acc.feature_importances_)\n",
        "ax1.tick_params(axis='x',rotation=40)\n",
        "ax1.tick_params(axis='both',labelsize=13)\n",
        "\n",
        "ax2.tick_params(axis='x',rotation=40)\n",
        "ax2.tick_params(axis='both',labelsize=13)\n",
        "\n",
        "\n",
        "ax1.set_ylabel('Importance', fontsize=17)\n",
        "ax1.set_xlabel('Features Execution Time', fontsize=17)\n",
        "ax2.set_xlabel('Features Accuracy', fontsize=17)\n",
        "\n",
        "plt.tight_layout()"
      ],
      "execution_count": 65,
      "outputs": [
        {
          "output_type": "stream",
          "name": "stdout",
          "text": [
            "dataParallelism 0.8223767715471778\n",
            "executorCore 0.1357514464588322\n",
            "learningRate 0.009393642155853138\n",
            "batchSize 0.03247813983813675\n"
          ]
        },
        {
          "output_type": "display_data",
          "data": {
            "image/png": "[encoded data removed]",
            "text/plain": [
              "<Figure size 720x504 with 2 Axes>"
            ]
          },
          "metadata": {
            "needs_background": "light"
          }
        }
      ]
    },
    {
      "cell_type": "markdown",
      "metadata": {
        "id": "J_ftNEUsV4hF"
      },
      "source": [
        "*Regressions on experimental batch size modeling experiments* "
      ]
    },
    {
      "cell_type": "markdown",
      "metadata": {
        "id": "y6fiJkmxeM3H"
      },
      "source": [
        "Defining the datasets"
      ]
    },
    {
      "cell_type": "code",
      "metadata": {
        "id": "bDmdNxdGWE9m"
      },
      "source": [
        "df_batch = pd.read_csv('experimentsBatchSize.csv', sep=\";\")\n",
        "train_df = df_batch[['batchSize']]\n",
        "\n",
        "labels_time = df_batch['running_time']\n",
        "labels_acc = df_batch['accuracy']\n",
        "\n",
        "train_df = scaler.fit_transform(train_df)\n",
        "\n",
        "# Fit just the Random Forest regressor with a GridSearch crossval to find the best hyperparams\n",
        "x_train, x_test, y_train_acc, y_test_acc = train_test_split(train_df, labels_acc, test_size=0.33, random_state = 42)\n",
        "x_train, x_test, y_train_time, y_test_time = train_test_split(train_df, labels_time, test_size=0.33, random_state = 42)"
      ],
      "execution_count": 88,
      "outputs": []
    },
    {
      "cell_type": "markdown",
      "metadata": {
        "id": "Z02lw174eQ44"
      },
      "source": [
        "Linear Regression"
      ]
    },
    {
      "cell_type": "code",
      "metadata": {
        "colab": {
          "base_uri": "https://localhost:8080/"
        },
        "id": "ozSWPxX-eS-H",
        "outputId": "43e76e09-5e75-424d-a195-5710a4e9ec8c"
      },
      "source": [
        "# LR for predicting time\n",
        "lr_time = linear_model.LinearRegression().fit(x_train, y_train_time)\n",
        "\n",
        "y_lr_time = lr_time.predict(x_test)\n",
        "\n",
        "mse = mean_squared_error(y_test_time, y_lr_time)\n",
        "r2 = r2_score(y_test_time, y_lr_time)\n",
        "print(f'Time: MSE = {mse}, R2: {r2}')"
      ],
      "execution_count": 89,
      "outputs": [
        {
          "output_type": "stream",
          "name": "stdout",
          "text": [
            "Time: MSE = 12.00356120938224, R2: 0.00828146781654271\n"
          ]
        }
      ]
    },
    {
      "cell_type": "code",
      "metadata": {
        "colab": {
          "base_uri": "https://localhost:8080/"
        },
        "id": "bQX6kKpqemaS",
        "outputId": "59e297ce-ff9b-4d3f-813d-8d364736e1d0"
      },
      "source": [
        "# LR for predicting accuracy\n",
        "lr_time = linear_model.LinearRegression().fit(x_train, y_train_acc)\n",
        "\n",
        "y_lr_time = lr_time.predict(x_test)\n",
        "\n",
        "mse = mean_squared_error(y_test_acc, y_lr_time)\n",
        "r2 = r2_score(y_test_acc, y_lr_time)\n",
        "print(f'Time: MSE = {mse}, R2: {r2}')"
      ],
      "execution_count": 90,
      "outputs": [
        {
          "output_type": "stream",
          "name": "stdout",
          "text": [
            "Time: MSE = 0.7964219893594925, R2: 0.49702361880102064\n"
          ]
        }
      ]
    },
    {
      "cell_type": "markdown",
      "metadata": {
        "id": "AOiZRHtneokZ"
      },
      "source": [
        "Random Forest\n"
      ]
    },
    {
      "cell_type": "code",
      "metadata": {
        "colab": {
          "base_uri": "https://localhost:8080/"
        },
        "id": "p3pEnuGYWDY5",
        "outputId": "88543e97-2184-4bd6-cc78-dd363777b7bc"
      },
      "source": [
        "reg_acc_batch = ensemble.RandomForestRegressor(random_state=42)\n",
        "reg_time_batch = ensemble.RandomForestRegressor(random_state=42)\n",
        "\n",
        "# First cross validation\n",
        "print('Fitting the time')\n",
        "cv_time_batch = GridSearchCV(estimator=reg_time_batch, param_grid=params_rf, n_jobs=8, cv=5, verbose=3)\n",
        "cv_time_batch.fit(x_train, y_train_time)\n",
        "\n",
        "# Second cross val\n",
        "print('Fitting the accuracy')\n",
        "cv_acc_batch = GridSearchCV(estimator=reg_acc_batch, param_grid=params_rf, n_jobs=8, cv=5, verbose=3)\n",
        "cv_acc_batch.fit(x_train, y_train_acc)"
      ],
      "execution_count": 72,
      "outputs": [
        {
          "output_type": "stream",
          "name": "stdout",
          "text": [
            "Fitting the time\n",
            "Fitting 5 folds for each of 72 candidates, totalling 360 fits\n"
          ]
        },
        {
          "output_type": "stream",
          "name": "stderr",
          "text": [
            "[Parallel(n_jobs=8)]: Using backend LokyBackend with 8 concurrent workers.\n",
            "[Parallel(n_jobs=8)]: Done  16 tasks      | elapsed:    2.9s\n",
            "[Parallel(n_jobs=8)]: Done 112 tasks      | elapsed:   40.6s\n",
            "[Parallel(n_jobs=8)]: Done 272 tasks      | elapsed:  1.7min\n",
            "[Parallel(n_jobs=8)]: Done 360 out of 360 | elapsed:  2.4min finished\n"
          ]
        },
        {
          "output_type": "stream",
          "name": "stdout",
          "text": [
            "Fitting the accuracy\n",
            "Fitting 5 folds for each of 72 candidates, totalling 360 fits\n"
          ]
        },
        {
          "output_type": "stream",
          "name": "stderr",
          "text": [
            "[Parallel(n_jobs=8)]: Using backend LokyBackend with 8 concurrent workers.\n",
            "[Parallel(n_jobs=8)]: Done  16 tasks      | elapsed:    2.9s\n",
            "[Parallel(n_jobs=8)]: Done 112 tasks      | elapsed:   40.5s\n",
            "[Parallel(n_jobs=8)]: Done 272 tasks      | elapsed:  1.7min\n",
            "[Parallel(n_jobs=8)]: Done 360 out of 360 | elapsed:  2.4min finished\n"
          ]
        },
        {
          "output_type": "execute_result",
          "data": {
            "text/plain": [
              "GridSearchCV(cv=5, error_score=nan,\n",
              "             estimator=RandomForestRegressor(bootstrap=True, ccp_alpha=0.0,\n",
              "                                             criterion='mse', max_depth=None,\n",
              "                                             max_features='auto',\n",
              "                                             max_leaf_nodes=None,\n",
              "                                             max_samples=None,\n",
              "                                             min_impurity_decrease=0.0,\n",
              "                                             min_impurity_split=None,\n",
              "                                             min_samples_leaf=1,\n",
              "                                             min_samples_split=2,\n",
              "                                             min_weight_fraction_leaf=0.0,\n",
              "                                             n_estimators=100, n_jobs=None,\n",
              "                                             oob_score=False, random_state=42,\n",
              "                                             verbose=0, warm_start=False),\n",
              "             iid='deprecated', n_jobs=8,\n",
              "             param_grid={'criterion': ['mse', 'mae'], 'max_depth': range(4, 6),\n",
              "                         'max_features': ['auto', 'log2', 'sqrt'],\n",
              "                         'n_estimators': [50, 100, 150, 200, 500, 1000]},\n",
              "             pre_dispatch='2*n_jobs', refit=True, return_train_score=False,\n",
              "             scoring=None, verbose=3)"
            ]
          },
          "metadata": {},
          "execution_count": 72
        }
      ]
    },
    {
      "cell_type": "code",
      "metadata": {
        "id": "pZG9F-tpdm6o"
      },
      "source": [
        "## Fit on the time\n",
        "r_t_batch = cv_time_batch.best_estimator_.fit(x_train, y_train_time)\n",
        "\n",
        "# test the performance on the train and the test set\n",
        "y_pred = r_t_batch.predict(x_test)\n",
        "\n",
        "# #higher resolution graph\n",
        "X_grid = np.arange(min(x_train['batchSize']),max((x_train['batchSize'])),0.01)\n",
        "X_grid = X_grid.reshape(len(X_grid),1) \n",
        " \n",
        "plt.scatter(x_test,y_test_time, color='red') #plotting real points\n",
        " \n",
        "plt.title(\"Truth or Bluff(Random Forest - Smooth)\")\n",
        "plt.xlabel('Running Time')\n",
        "plt.ylabel('Batch Size')\n",
        "plt.show()\n",
        "\n",
        "err = mean_squared_error(y_pred, y_test_time)\n",
        "\n",
        "print('Mean Squared Error with the test set is for running time', err)\n",
        "\n",
        "y_pred.shape"
      ],
      "execution_count": null,
      "outputs": []
    }
  ]
}